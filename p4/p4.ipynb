{
 "cells": [
  {
   "cell_type": "markdown",
   "metadata": {},
   "source": [
    "# Imports"
   ]
  },
  {
   "cell_type": "code",
   "execution_count": 902,
   "metadata": {},
   "outputs": [],
   "source": [
    "# Librairies\n",
    "import numpy as np\n",
    "import pandas as pd\n",
    "from datetime import datetime\n",
    "import matplotlib\n",
    "import matplotlib.pyplot as plt\n",
    "import seaborn as sns\n",
    "sns.set_style('darkgrid')"
   ]
  },
  {
   "cell_type": "code",
   "execution_count": 903,
   "metadata": {},
   "outputs": [],
   "source": [
    "# URLs\n",
    "exports = 'D:\\Drive\\Colab Notebooks\\oc\\p4\\exports\\\\'\n",
    "local = 'sources/'\n",
    "github = 'https://raw.githubusercontent.com/gllmfrnr/oc/master/p4/sources/'"
   ]
  },
  {
   "cell_type": "code",
   "execution_count": 904,
   "metadata": {},
   "outputs": [],
   "source": [
    "# Dataframes\n",
    "clients =       pd.read_csv(local + 'customers.csv')\n",
    "produits =        pd.read_csv(local + 'products.csv')    \n",
    "transactions =    pd.read_csv(local + 'transactions.csv')"
   ]
  },
  {
   "cell_type": "code",
   "execution_count": 905,
   "metadata": {},
   "outputs": [],
   "source": [
    "# Styles\n",
    "# Exemple : print(color.bold + 'Hello' + color.end)\n",
    "class style:\n",
    "   blue = '\\033[94m'\n",
    "   green = '\\033[92m'\n",
    "   red = '\\033[91m'\n",
    "   bold = '\\033[1m'\n",
    "   underline = '\\033[4m'\n",
    "   end = '\\033[0m' \n",
    "\n",
    "indigo_A100 = '#8c9eff'\n",
    "purple_A100 = '#ea80fc'"
   ]
  },
  {
   "cell_type": "markdown",
   "metadata": {},
   "source": [
    "## Fonctions"
   ]
  },
  {
   "cell_type": "markdown",
   "metadata": {},
   "source": [
    "### Exploration"
   ]
  },
  {
   "cell_type": "code",
   "execution_count": 906,
   "metadata": {},
   "outputs": [],
   "source": [
    "# Vérification et suppression de duplicats\n",
    "def duplicats(df):\n",
    "  print(  # Vérifier présence de duplicats\n",
    "      len(df), 'lignes avant suppression \\n' +\n",
    "      'Nombre de duplicats :', len(df) - len(df.drop_duplicates())    \n",
    "  )\n",
    "  df.drop_duplicates(inplace=True)  # Suppression des duplicats\n",
    "  print(len(df), 'lignes après suppression')"
   ]
  },
  {
   "cell_type": "code",
   "execution_count": 907,
   "metadata": {},
   "outputs": [],
   "source": [
    "# Exploration des datasets\n",
    "def exploration(df):\n",
    "    print( \n",
    "        style.red + 'SAMPLE ↓ \\n' + style.end,\n",
    "        df.sample(3), '\\n'                                              # Sample\n",
    "        ) \n",
    "    print(style.red + 'INFO ↓ \\n' + style.end)\n",
    "    print(df.info(), '\\n')                                              # Colonnes, null-count, types d'objets\n",
    "    for i in range(0, len(df.columns)):\n",
    "        print(\n",
    "            style.red + 'COLONNE',\n",
    "            style.bold + df.columns[i], ': \\n' + style.end,             # Nom de colonne\n",
    "             df.iloc[:, i].describe(), '\\n',                            # .describe()\n",
    "            sum(df.iloc[:, i].isna()), 'Nan \\n',                        # Nbre de Nan \n",
    "            df.shape[0] - np.count_nonzero(df.iloc[:, i]), 'zéros \\n',  # Nbre de 0\n",
    "            len(df.iloc[:, i].unique()), 'valeurs uniques : \\n'#,\n",
    "            #df.iloc[:, i].unique(), '\\n'                                # Nombre de valeurs uniques \n",
    "        )"
   ]
  },
  {
   "cell_type": "code",
   "execution_count": 908,
   "metadata": {},
   "outputs": [],
   "source": [
    "# Exploration des datasets\n",
    "def exploration(df):\n",
    "    print( \n",
    "        style.red + 'SAMPLE ↓ \\n' + style.end,\n",
    "        df.sample(3), '\\n'                                              # Sample\n",
    "        ) \n",
    "    print(style.red + 'INFO ↓ \\n' + style.end)\n",
    "    print(df.info(), '\\n')                                              # Colonnes, null-count, types d'objets\n",
    "    for i in range(0, len(df.columns)):\n",
    "        print(\n",
    "            style.red + 'COLONNE',\n",
    "            style.bold + df.columns[i], ': \\n' + style.end,             # Nom de colonne\n",
    "             df.iloc[:, i].describe(), '\\n',                            # .describe()\n",
    "            sum(df.iloc[:, i].isna()), 'Nan \\n',                        # Nbre de Nan \n",
    "            df.shape[0] - np.count_nonzero(df.iloc[:, i]), 'zéros \\n',  # Nbre de 0\n",
    "            len(df.iloc[:, i].unique()), 'valeurs uniques : \\n'#,\n",
    "            #df.iloc[:, i].unique(), '\\n'                                # Nombre de valeurs uniques \n",
    "        )"
   ]
  },
  {
   "cell_type": "code",
   "execution_count": 909,
   "metadata": {},
   "outputs": [],
   "source": [
    "# Vérification de la clé primaire\n",
    "def check_pk(df_pk):\n",
    "  table_length = len(df_pk) - len(df_pk.drop_duplicates())\n",
    "  if table_length == 0:\n",
    "    print(style.green + 'C\\'est bien une clé primaire (0 duplicat)' + style.end)\n",
    "  else:\n",
    "    print(\n",
    "        style.red + 'Ce n\\'est pas une clé primaire (',\n",
    "        table_length, 'duplicats )' + style.end\n",
    "        )"
   ]
  },
  {
   "cell_type": "markdown",
   "metadata": {},
   "source": [
    "### Indicateurs"
   ]
  },
  {
   "cell_type": "code",
   "execution_count": 910,
   "metadata": {},
   "outputs": [],
   "source": [
    "# Indicateurs univariés\n",
    "\n",
    "def indicateurs(df, variable):\n",
    "    \n",
    "    # Paramètres de position\n",
    "    mode = df[variable].mode().to_list()\n",
    "    frequence_mode = round((len(df[df[variable]==mode[0]]) / len(df) * 100), 1)\n",
    "    moyenne = round(df[variable].mean(), 1)\n",
    "    mediane = df[variable].median()\n",
    "    quartile_1 = round(df[variable].quantile(0.25), 1)\n",
    "    quartile_3 = round(df[variable].quantile(0.75), 1)\n",
    "      \n",
    "    # Paramètres de dispersion\n",
    "    minimum = df[variable].min()\n",
    "    maximum = df[variable].max()\n",
    "    etendue = round((maximum - minimum), 1)\n",
    "    variance = round(df[variable].var(ddof=0), 1)\n",
    "    ecart_type = round(df[variable].std(ddof=0), 1)\n",
    "    coeff_variation = round(df[variable].std(ddof=0) / df[variable].mean(), 1)\n",
    "    \n",
    "    skewness = round(df[variable].skew(), 1)\n",
    "    if skewness > 0:\n",
    "        skewness_symetrie = 'étalée à droite'\n",
    "    elif skewness < 0:\n",
    "        skewness_symetrie = 'étalée à gauche'\n",
    "    else:\n",
    "        skewness_symetrie = 'symétrique'\n",
    "        \n",
    "    kurtosis = round(df[variable].kurtosis(), 1)\n",
    "    if kurtosis > 0:\n",
    "        kurtosis_aplatissement = 'moins aplatie que la normale gaussienne'\n",
    "    elif kurtosis < 0:\n",
    "        kurtosis_aplatissement = 'plus aplatie que la normale gaussienne'\n",
    "    else:\n",
    "        kurtosis_aplatissement = 'normale (gaussienne)'\n",
    "        \n",
    "    # Affichage\n",
    "    print(\n",
    "        style.bold + 'Indicateurs de position :' + style.end,\n",
    "        '\\nMode(s) :', mode, '(fréquence :', frequence_mode, '%)',        \n",
    "        '\\nMoyenne :', moyenne, '\\nMédiane :', mediane,\n",
    "        '\\n1er quartile :', quartile_1, '\\n3ème quartile :', quartile_3,\n",
    "        \n",
    "        style.bold + '\\nIndicateurs de dispersion :' + style.end,\n",
    "        '\\nMinimum :', minimum, '\\nMaximum :', maximum, '\\nÉtendue :', etendue,\n",
    "        '\\nVariance :', variance, '\\nÉcart-type : ', ecart_type,\n",
    "        '\\nCoeff. de variation :', coeff_variation,\n",
    "        '\\nSkewness :', skewness, '( distribution', skewness_symetrie, ')',\n",
    "        '\\nKurtosis :', kurtosis, '( distribution', kurtosis_aplatissement, ')'\n",
    "    )"
   ]
  },
  {
   "cell_type": "code",
   "execution_count": 911,
   "metadata": {},
   "outputs": [],
   "source": [
    "# Indicateurs bivariés\n",
    "def indicateurs_bivaries(df, variable_1, variable_2):\n",
    "    for mode in df[variable_1].unique():\n",
    "        subset = df[df[variable_1] == mode]\n",
    "        print(\n",
    "            style.bold + style.blue + 'Modalité :' + style.end, mode,\n",
    "            '(fréquence :', round((len(subset) / len(df) * 100), 1), '%)\\n'\n",
    "        ),\n",
    "        indicateurs(subset, variable_2), \n",
    "        print('\\n')"
   ]
  },
  {
   "cell_type": "code",
   "execution_count": 912,
   "metadata": {},
   "outputs": [],
   "source": [
    "#???????????????????????????????????????????????????????????????????\n",
    "#???????????????????????????????????????????????????????????????????\n",
    "#???????????????????????????????????????????????????????????????????\n",
    "\n",
    "# Courbe de Lorenz et indice de Gini\n",
    "def lorenz(observations):\n",
    "\n",
    "  # Nombre d'observations\n",
    "  n = len(observations)\n",
    "\n",
    "  # LORENZ ↓↓\n",
    "\n",
    "  #   ↓ Définir ordonnées\n",
    "  #   Trier les individus par ordre croissant : np.sort()\n",
    "  #   Calculer la somme cumulée : np.cumsum()\n",
    "  #   Normaliser en divisant par la somme totale des observations : / .sum()\n",
    "  lorenz = np.cumsum(np.sort(observations)) / observations.sum()\n",
    "  #   La courbe de Lorenz débute à 0 (ajouter valeur 0 avant liste précédente)\n",
    "  lorenz = np.append([0], lorenz)\n",
    "\n",
    "  #   ↓ Définir ordonnées, de 0 à 1 à intervalles réguliers\n",
    "  xaxis = np.linspace(0-1 / n, 1+1 / n, n+1)\n",
    "\n",
    "  # GINI\n",
    "  #     Surface sous la courbe de Lorenz\n",
    "  AUC = (lorenz.sum() - lorenz[-1]/2 -lorenz[0]/2) / n\n",
    "  #     Surface entre la 1ère bissectrice et la courbe de Lorenz\n",
    "  S = 0.5 - AUC\n",
    "  gini = 2*S\n",
    "\n",
    "  # Afficher la courbe\n",
    "  plt.axes().axis('equal')\n",
    "  plt.plot(xaxis, lorenz, drawstyle='steps-post')\n",
    "  plt.ylim([0,1])\n",
    "  plt.show()\n",
    "\n",
    "  print('Indice de Gini :', round(gini, 1))"
   ]
  },
  {
   "cell_type": "markdown",
   "metadata": {},
   "source": [
    "# Exploration"
   ]
  },
  {
   "cell_type": "markdown",
   "metadata": {},
   "source": [
    "## Suppression des duplicats\n",
    "- On vérifie ces duplicats avant l'exploration, pour permettre de définir les clés primaires\n",
    "- Seule la table **transactions** contient des duplicats, qu'on supprime"
   ]
  },
  {
   "cell_type": "code",
   "execution_count": 913,
   "metadata": {},
   "outputs": [
    {
     "name": "stdout",
     "output_type": "stream",
     "text": [
      "8623 lignes avant suppression \n",
      "Nombre de duplicats : 0\n",
      "8623 lignes après suppression\n"
     ]
    }
   ],
   "source": [
    "# customers\n",
    "duplicats(clients)\n",
    "\n",
    "# --> Aucun duplicat"
   ]
  },
  {
   "cell_type": "code",
   "execution_count": 914,
   "metadata": {},
   "outputs": [
    {
     "name": "stdout",
     "output_type": "stream",
     "text": [
      "3287 lignes avant suppression \n",
      "Nombre de duplicats : 0\n",
      "3287 lignes après suppression\n"
     ]
    }
   ],
   "source": [
    "# products\n",
    "duplicats(produits)\n",
    "\n",
    "# --> Aucun duplicat"
   ]
  },
  {
   "cell_type": "code",
   "execution_count": 915,
   "metadata": {},
   "outputs": [
    {
     "name": "stdout",
     "output_type": "stream",
     "text": [
      "337016 lignes avant suppression \n",
      "Nombre de duplicats : 126\n",
      "336890 lignes après suppression\n"
     ]
    }
   ],
   "source": [
    "# transactions\n",
    "duplicats(transactions)\n",
    "\n",
    "# --> Présence de 126 duplicats, on les supprime"
   ]
  },
  {
   "cell_type": "markdown",
   "metadata": {},
   "source": [
    "## Clients\n",
    "- 3 variables : *'client_id'*, *'Sexe'* et *'Naissance'*\n",
    "- 2 modalités dans *'Sexe'* : f ou h\n",
    "- Dans *'Naissance'*, années s'étalant de 1929 à 2004\n",
    "- Aucune valeur manquante ou aberrante\n",
    "- Aucun doublon dans *'client_id'*\n",
    "- Clé primaire : *'client_id'*"
   ]
  },
  {
   "cell_type": "code",
   "execution_count": 916,
   "metadata": {},
   "outputs": [
    {
     "data": {
      "text/html": [
       "<div>\n",
       "<style scoped>\n",
       "    .dataframe tbody tr th:only-of-type {\n",
       "        vertical-align: middle;\n",
       "    }\n",
       "\n",
       "    .dataframe tbody tr th {\n",
       "        vertical-align: top;\n",
       "    }\n",
       "\n",
       "    .dataframe thead th {\n",
       "        text-align: right;\n",
       "    }\n",
       "</style>\n",
       "<table border=\"1\" class=\"dataframe\">\n",
       "  <thead>\n",
       "    <tr style=\"text-align: right;\">\n",
       "      <th></th>\n",
       "      <th>client_id</th>\n",
       "      <th>Sexe</th>\n",
       "      <th>Naissance</th>\n",
       "    </tr>\n",
       "  </thead>\n",
       "  <tbody>\n",
       "    <tr>\n",
       "      <th>3049</th>\n",
       "      <td>c_1429</td>\n",
       "      <td>f</td>\n",
       "      <td>1985</td>\n",
       "    </tr>\n",
       "    <tr>\n",
       "      <th>3361</th>\n",
       "      <td>c_1484</td>\n",
       "      <td>f</td>\n",
       "      <td>1960</td>\n",
       "    </tr>\n",
       "    <tr>\n",
       "      <th>2929</th>\n",
       "      <td>c_883</td>\n",
       "      <td>f</td>\n",
       "      <td>1993</td>\n",
       "    </tr>\n",
       "    <tr>\n",
       "      <th>2746</th>\n",
       "      <td>c_7451</td>\n",
       "      <td>f</td>\n",
       "      <td>1965</td>\n",
       "    </tr>\n",
       "    <tr>\n",
       "      <th>5614</th>\n",
       "      <td>c_1807</td>\n",
       "      <td>m</td>\n",
       "      <td>1993</td>\n",
       "    </tr>\n",
       "  </tbody>\n",
       "</table>\n",
       "</div>"
      ],
      "text/plain": [
       "     client_id Sexe  Naissance\n",
       "3049    c_1429    f       1985\n",
       "3361    c_1484    f       1960\n",
       "2929     c_883    f       1993\n",
       "2746    c_7451    f       1965\n",
       "5614    c_1807    m       1993"
      ]
     },
     "execution_count": 916,
     "metadata": {},
     "output_type": "execute_result"
    }
   ],
   "source": [
    "# Renommer les colonnes\n",
    "clients.rename(columns={'sex': 'Sexe', 'birth': 'Naissance'}, inplace=True)\n",
    "clients.sample(5)"
   ]
  },
  {
   "cell_type": "code",
   "execution_count": 917,
   "metadata": {},
   "outputs": [],
   "source": [
    "# Exploration du dataset\n",
    "# exploration(clients)\n",
    "\n",
    "# --> Aucun doublon dans la variable 'client_id'\n",
    "# --> 2 valeurs possibles dans 'sex' : f ou m\n",
    "# --> Valeurs de 1929 à 2004 dans 'birth'\n",
    "# --> Aucune valeur manquante\n",
    "# --> Aucune valeur aberrante"
   ]
  },
  {
   "cell_type": "code",
   "execution_count": 918,
   "metadata": {},
   "outputs": [
    {
     "name": "stdout",
     "output_type": "stream",
     "text": [
      "\u001b[92mC'est bien une clé primaire (0 duplicat)\u001b[0m\n"
     ]
    }
   ],
   "source": [
    "# Vérification de la clé primaire\n",
    "check_pk(clients['client_id'])"
   ]
  },
  {
   "cell_type": "markdown",
   "metadata": {},
   "source": [
    "## Produits\n",
    "- 3 variables : *'id_prod'*, *'Prix'* et *'Catégorie'*\n",
    "- 3 modalités dans *'Catégorie'* : 0, 1 et 2\n",
    "- Valeurs aberrantes dans *'Prix'* (car inférieures à 0)\n",
    "- Aucune valeur manquante\n",
    "- Aucun doublon dans *'id_prod'*\n",
    "- Clé primaire : *'id_prod'*"
   ]
  },
  {
   "cell_type": "code",
   "execution_count": 919,
   "metadata": {},
   "outputs": [
    {
     "data": {
      "text/html": [
       "<div>\n",
       "<style scoped>\n",
       "    .dataframe tbody tr th:only-of-type {\n",
       "        vertical-align: middle;\n",
       "    }\n",
       "\n",
       "    .dataframe tbody tr th {\n",
       "        vertical-align: top;\n",
       "    }\n",
       "\n",
       "    .dataframe thead th {\n",
       "        text-align: right;\n",
       "    }\n",
       "</style>\n",
       "<table border=\"1\" class=\"dataframe\">\n",
       "  <thead>\n",
       "    <tr style=\"text-align: right;\">\n",
       "      <th></th>\n",
       "      <th>id_prod</th>\n",
       "      <th>Prix</th>\n",
       "      <th>Catégorie</th>\n",
       "    </tr>\n",
       "  </thead>\n",
       "  <tbody>\n",
       "    <tr>\n",
       "      <th>1921</th>\n",
       "      <td>1_96</td>\n",
       "      <td>7.58</td>\n",
       "      <td>1</td>\n",
       "    </tr>\n",
       "    <tr>\n",
       "      <th>1761</th>\n",
       "      <td>1_267</td>\n",
       "      <td>27.99</td>\n",
       "      <td>1</td>\n",
       "    </tr>\n",
       "    <tr>\n",
       "      <th>1447</th>\n",
       "      <td>1_187</td>\n",
       "      <td>26.99</td>\n",
       "      <td>1</td>\n",
       "    </tr>\n",
       "    <tr>\n",
       "      <th>75</th>\n",
       "      <td>0_2035</td>\n",
       "      <td>17.99</td>\n",
       "      <td>0</td>\n",
       "    </tr>\n",
       "    <tr>\n",
       "      <th>2349</th>\n",
       "      <td>0_503</td>\n",
       "      <td>18.99</td>\n",
       "      <td>0</td>\n",
       "    </tr>\n",
       "  </tbody>\n",
       "</table>\n",
       "</div>"
      ],
      "text/plain": [
       "     id_prod   Prix  Catégorie\n",
       "1921    1_96   7.58          1\n",
       "1761   1_267  27.99          1\n",
       "1447   1_187  26.99          1\n",
       "75    0_2035  17.99          0\n",
       "2349   0_503  18.99          0"
      ]
     },
     "execution_count": 919,
     "metadata": {},
     "output_type": "execute_result"
    }
   ],
   "source": [
    "# Renommer les colonnes\n",
    "produits.rename(columns={'price': 'Prix', 'categ': 'Catégorie'}, inplace=True)\n",
    "produits.sample(5)"
   ]
  },
  {
   "cell_type": "code",
   "execution_count": 920,
   "metadata": {},
   "outputs": [],
   "source": [
    "# Exploration du dataset\n",
    "#exploration(produits)\n",
    "\n",
    "# --> Aucun doublon dans la variable 'id_prod'\n",
    "# --> Valeurs aberrantes dans 'price' (inférieures à 0)\n",
    "# --> 3 valeurs possibles dans 'categ' : 0, 1, 2\n",
    "# --> Aucune valeur manquante"
   ]
  },
  {
   "cell_type": "code",
   "execution_count": 921,
   "metadata": {},
   "outputs": [
    {
     "name": "stdout",
     "output_type": "stream",
     "text": [
      "\u001b[92mC'est bien une clé primaire (0 duplicat)\u001b[0m\n"
     ]
    }
   ],
   "source": [
    "# Vérification de la clé primaire\n",
    "check_pk(produits['id_prod'])"
   ]
  },
  {
   "cell_type": "markdown",
   "metadata": {},
   "source": [
    "## Transactions\n",
    "- 4 variables : *'id_prod'*, *'Date'*, *'session_id'* et *'client_id'*\n",
    "- *'id_prod'* et *'client_id'* sont des clés étrangères vers **produits** et **clients**\n",
    "- Il y a moins de valeurs uniques dans ces variables que dans les tables qu'elles référencent (certains clients n'ont pas passé commande, certains produits n'ont pas été vendus)\n",
    "- Valeurs aberrantes dans *'Date'* (dates ayant 'test_' pour préfixe')\n",
    "- Aucune valeur manquante"
   ]
  },
  {
   "cell_type": "code",
   "execution_count": 922,
   "metadata": {},
   "outputs": [
    {
     "data": {
      "text/html": [
       "<div>\n",
       "<style scoped>\n",
       "    .dataframe tbody tr th:only-of-type {\n",
       "        vertical-align: middle;\n",
       "    }\n",
       "\n",
       "    .dataframe tbody tr th {\n",
       "        vertical-align: top;\n",
       "    }\n",
       "\n",
       "    .dataframe thead th {\n",
       "        text-align: right;\n",
       "    }\n",
       "</style>\n",
       "<table border=\"1\" class=\"dataframe\">\n",
       "  <thead>\n",
       "    <tr style=\"text-align: right;\">\n",
       "      <th></th>\n",
       "      <th>id_prod</th>\n",
       "      <th>Date</th>\n",
       "      <th>session_id</th>\n",
       "      <th>client_id</th>\n",
       "    </tr>\n",
       "  </thead>\n",
       "  <tbody>\n",
       "    <tr>\n",
       "      <th>260761</th>\n",
       "      <td>1_466</td>\n",
       "      <td>2021-06-21 19:17:35.807244</td>\n",
       "      <td>s_51861</td>\n",
       "      <td>c_3752</td>\n",
       "    </tr>\n",
       "    <tr>\n",
       "      <th>73535</th>\n",
       "      <td>0_1399</td>\n",
       "      <td>2021-08-23 12:29:50.641354</td>\n",
       "      <td>s_79620</td>\n",
       "      <td>c_6912</td>\n",
       "    </tr>\n",
       "    <tr>\n",
       "      <th>186876</th>\n",
       "      <td>1_683</td>\n",
       "      <td>2021-05-17 09:03:03.167377</td>\n",
       "      <td>s_35655</td>\n",
       "      <td>c_1016</td>\n",
       "    </tr>\n",
       "    <tr>\n",
       "      <th>43002</th>\n",
       "      <td>1_498</td>\n",
       "      <td>2021-12-18 19:11:49.985515</td>\n",
       "      <td>s_136372</td>\n",
       "      <td>c_3500</td>\n",
       "    </tr>\n",
       "    <tr>\n",
       "      <th>244202</th>\n",
       "      <td>0_1612</td>\n",
       "      <td>2021-12-14 15:26:46.308807</td>\n",
       "      <td>s_134295</td>\n",
       "      <td>c_6819</td>\n",
       "    </tr>\n",
       "  </tbody>\n",
       "</table>\n",
       "</div>"
      ],
      "text/plain": [
       "       id_prod                        Date session_id client_id\n",
       "260761   1_466  2021-06-21 19:17:35.807244    s_51861    c_3752\n",
       "73535   0_1399  2021-08-23 12:29:50.641354    s_79620    c_6912\n",
       "186876   1_683  2021-05-17 09:03:03.167377    s_35655    c_1016\n",
       "43002    1_498  2021-12-18 19:11:49.985515   s_136372    c_3500\n",
       "244202  0_1612  2021-12-14 15:26:46.308807   s_134295    c_6819"
      ]
     },
     "execution_count": 922,
     "metadata": {},
     "output_type": "execute_result"
    }
   ],
   "source": [
    "# Renommer les colonnes\n",
    "transactions.rename(columns={'date': 'Date'}, inplace=True)\n",
    "transactions.sample(5)"
   ]
  },
  {
   "cell_type": "code",
   "execution_count": 923,
   "metadata": {},
   "outputs": [],
   "source": [
    "# Exploration du dataset\n",
    "#exploration(transactions)\n",
    "\n",
    "# --> id_prod et client_id sont des clés étrangères vers products et customers\n",
    "# --> Moins de valeurs uniques dans ces variables que dans celles des tables référencées\n",
    "# --> Aucune valeur manquante"
   ]
  },
  {
   "cell_type": "code",
   "execution_count": 924,
   "metadata": {},
   "outputs": [
    {
     "name": "stdout",
     "output_type": "stream",
     "text": [
      "\u001b[92mC'est bien une clé primaire (0 duplicat)\u001b[0m\n"
     ]
    }
   ],
   "source": [
    "# Vérification de la clé primaire\n",
    "check_pk(transactions[['Date', 'client_id']])"
   ]
  },
  {
   "cell_type": "markdown",
   "metadata": {},
   "source": [
    "## Data (jointures)\n",
    "- **transactions** contient moins de clés dans les variables référençant **clients** et **produits** (respectivement *'client_id'* et *'id_prid'*) : on ne préserve que les clés de **transactions**, dans une nouvelle table appelée **data**\n",
    "- à l'issue des jointures, des valeurs manquantes apparaissent dans *'Prix'* et *'Catégorie'* (103 NaN pour chacune des 2 variables)"
   ]
  },
  {
   "cell_type": "code",
   "execution_count": 925,
   "metadata": {},
   "outputs": [
    {
     "data": {
      "text/html": [
       "<div>\n",
       "<style scoped>\n",
       "    .dataframe tbody tr th:only-of-type {\n",
       "        vertical-align: middle;\n",
       "    }\n",
       "\n",
       "    .dataframe tbody tr th {\n",
       "        vertical-align: top;\n",
       "    }\n",
       "\n",
       "    .dataframe thead th {\n",
       "        text-align: right;\n",
       "    }\n",
       "</style>\n",
       "<table border=\"1\" class=\"dataframe\">\n",
       "  <thead>\n",
       "    <tr style=\"text-align: right;\">\n",
       "      <th></th>\n",
       "      <th>id_prod</th>\n",
       "      <th>Date</th>\n",
       "      <th>session_id</th>\n",
       "      <th>client_id</th>\n",
       "      <th>Sexe</th>\n",
       "      <th>Naissance</th>\n",
       "      <th>Prix</th>\n",
       "      <th>Catégorie</th>\n",
       "    </tr>\n",
       "  </thead>\n",
       "  <tbody>\n",
       "    <tr>\n",
       "      <th>0</th>\n",
       "      <td>0_1483</td>\n",
       "      <td>2021-04-10 18:37:28.723910</td>\n",
       "      <td>s_18746</td>\n",
       "      <td>c_4450</td>\n",
       "      <td>f</td>\n",
       "      <td>1977</td>\n",
       "      <td>4.99</td>\n",
       "      <td>0.0</td>\n",
       "    </tr>\n",
       "    <tr>\n",
       "      <th>1</th>\n",
       "      <td>2_226</td>\n",
       "      <td>2022-02-03 01:55:53.276402</td>\n",
       "      <td>s_159142</td>\n",
       "      <td>c_277</td>\n",
       "      <td>f</td>\n",
       "      <td>2000</td>\n",
       "      <td>65.75</td>\n",
       "      <td>2.0</td>\n",
       "    </tr>\n",
       "    <tr>\n",
       "      <th>2</th>\n",
       "      <td>1_374</td>\n",
       "      <td>2021-09-23 15:13:46.938559</td>\n",
       "      <td>s_94290</td>\n",
       "      <td>c_4270</td>\n",
       "      <td>f</td>\n",
       "      <td>1979</td>\n",
       "      <td>10.71</td>\n",
       "      <td>1.0</td>\n",
       "    </tr>\n",
       "    <tr>\n",
       "      <th>3</th>\n",
       "      <td>0_2186</td>\n",
       "      <td>2021-10-17 03:27:18.783634</td>\n",
       "      <td>s_105936</td>\n",
       "      <td>c_4597</td>\n",
       "      <td>m</td>\n",
       "      <td>1963</td>\n",
       "      <td>4.20</td>\n",
       "      <td>0.0</td>\n",
       "    </tr>\n",
       "    <tr>\n",
       "      <th>4</th>\n",
       "      <td>0_1351</td>\n",
       "      <td>2021-07-17 20:34:25.800563</td>\n",
       "      <td>s_63642</td>\n",
       "      <td>c_1242</td>\n",
       "      <td>f</td>\n",
       "      <td>1980</td>\n",
       "      <td>8.99</td>\n",
       "      <td>0.0</td>\n",
       "    </tr>\n",
       "    <tr>\n",
       "      <th>...</th>\n",
       "      <td>...</td>\n",
       "      <td>...</td>\n",
       "      <td>...</td>\n",
       "      <td>...</td>\n",
       "      <td>...</td>\n",
       "      <td>...</td>\n",
       "      <td>...</td>\n",
       "      <td>...</td>\n",
       "    </tr>\n",
       "    <tr>\n",
       "      <th>336885</th>\n",
       "      <td>1_671</td>\n",
       "      <td>2021-05-28 12:35:46.214839</td>\n",
       "      <td>s_40720</td>\n",
       "      <td>c_3454</td>\n",
       "      <td>m</td>\n",
       "      <td>1969</td>\n",
       "      <td>31.99</td>\n",
       "      <td>1.0</td>\n",
       "    </tr>\n",
       "    <tr>\n",
       "      <th>336886</th>\n",
       "      <td>0_759</td>\n",
       "      <td>2021-06-19 00:19:23.917703</td>\n",
       "      <td>s_50568</td>\n",
       "      <td>c_6268</td>\n",
       "      <td>m</td>\n",
       "      <td>1991</td>\n",
       "      <td>22.99</td>\n",
       "      <td>0.0</td>\n",
       "    </tr>\n",
       "    <tr>\n",
       "      <th>336887</th>\n",
       "      <td>0_1256</td>\n",
       "      <td>2021-03-16 17:31:59.442007</td>\n",
       "      <td>s_7219</td>\n",
       "      <td>c_4137</td>\n",
       "      <td>f</td>\n",
       "      <td>1968</td>\n",
       "      <td>11.03</td>\n",
       "      <td>0.0</td>\n",
       "    </tr>\n",
       "    <tr>\n",
       "      <th>336888</th>\n",
       "      <td>2_227</td>\n",
       "      <td>2021-10-30 16:50:15.997750</td>\n",
       "      <td>s_112349</td>\n",
       "      <td>c_5</td>\n",
       "      <td>f</td>\n",
       "      <td>1994</td>\n",
       "      <td>50.99</td>\n",
       "      <td>2.0</td>\n",
       "    </tr>\n",
       "    <tr>\n",
       "      <th>336889</th>\n",
       "      <td>0_1417</td>\n",
       "      <td>2021-06-26 14:38:19.732946</td>\n",
       "      <td>s_54117</td>\n",
       "      <td>c_6714</td>\n",
       "      <td>f</td>\n",
       "      <td>1968</td>\n",
       "      <td>17.99</td>\n",
       "      <td>0.0</td>\n",
       "    </tr>\n",
       "  </tbody>\n",
       "</table>\n",
       "<p>336890 rows × 8 columns</p>\n",
       "</div>"
      ],
      "text/plain": [
       "       id_prod                        Date session_id client_id Sexe  \\\n",
       "0       0_1483  2021-04-10 18:37:28.723910    s_18746    c_4450    f   \n",
       "1        2_226  2022-02-03 01:55:53.276402   s_159142     c_277    f   \n",
       "2        1_374  2021-09-23 15:13:46.938559    s_94290    c_4270    f   \n",
       "3       0_2186  2021-10-17 03:27:18.783634   s_105936    c_4597    m   \n",
       "4       0_1351  2021-07-17 20:34:25.800563    s_63642    c_1242    f   \n",
       "...        ...                         ...        ...       ...  ...   \n",
       "336885   1_671  2021-05-28 12:35:46.214839    s_40720    c_3454    m   \n",
       "336886   0_759  2021-06-19 00:19:23.917703    s_50568    c_6268    m   \n",
       "336887  0_1256  2021-03-16 17:31:59.442007     s_7219    c_4137    f   \n",
       "336888   2_227  2021-10-30 16:50:15.997750   s_112349       c_5    f   \n",
       "336889  0_1417  2021-06-26 14:38:19.732946    s_54117    c_6714    f   \n",
       "\n",
       "        Naissance   Prix  Catégorie  \n",
       "0            1977   4.99        0.0  \n",
       "1            2000  65.75        2.0  \n",
       "2            1979  10.71        1.0  \n",
       "3            1963   4.20        0.0  \n",
       "4            1980   8.99        0.0  \n",
       "...           ...    ...        ...  \n",
       "336885       1969  31.99        1.0  \n",
       "336886       1991  22.99        0.0  \n",
       "336887       1968  11.03        0.0  \n",
       "336888       1994  50.99        2.0  \n",
       "336889       1968  17.99        0.0  \n",
       "\n",
       "[336890 rows x 8 columns]"
      ]
     },
     "execution_count": 925,
     "metadata": {},
     "output_type": "execute_result"
    }
   ],
   "source": [
    "# Jointure externe gauche entre transactions et customers\n",
    "data = pd.merge(transactions, clients, how='left', on='client_id')\n",
    "\n",
    "# Jointure externe gauche avec products à droite\n",
    "data = pd.merge(data, produits, how='left', on='id_prod')\n",
    "\n",
    "data"
   ]
  },
  {
   "cell_type": "code",
   "execution_count": 926,
   "metadata": {},
   "outputs": [],
   "source": [
    "# Exploration du dataset\n",
    "# exploration(data)\n",
    "\n",
    "# --> Des valeurs manquantes apparaissent dans 'price' et 'categ' (même nombre : 103)"
   ]
  },
  {
   "cell_type": "markdown",
   "metadata": {},
   "source": [
    "# Nettoyage"
   ]
  },
  {
   "cell_type": "markdown",
   "metadata": {},
   "source": [
    "## Valeurs aberrantes\n",
    "- *'Prix'* et *'Date'* contiennent chacune 74 valeurs aberrantes\n",
    "- Ces valeurs concernent les 74 mêmes lignes\n",
    "- Toutes sont des tests menés en interne : on les supprime"
   ]
  },
  {
   "cell_type": "code",
   "execution_count": 927,
   "metadata": {},
   "outputs": [
    {
     "data": {
      "text/html": [
       "<div>\n",
       "<style scoped>\n",
       "    .dataframe tbody tr th:only-of-type {\n",
       "        vertical-align: middle;\n",
       "    }\n",
       "\n",
       "    .dataframe tbody tr th {\n",
       "        vertical-align: top;\n",
       "    }\n",
       "\n",
       "    .dataframe thead th {\n",
       "        text-align: right;\n",
       "    }\n",
       "</style>\n",
       "<table border=\"1\" class=\"dataframe\">\n",
       "  <thead>\n",
       "    <tr style=\"text-align: right;\">\n",
       "      <th></th>\n",
       "      <th>id_prod</th>\n",
       "      <th>Date</th>\n",
       "      <th>session_id</th>\n",
       "      <th>client_id</th>\n",
       "      <th>Sexe</th>\n",
       "      <th>Naissance</th>\n",
       "      <th>Prix</th>\n",
       "      <th>Catégorie</th>\n",
       "    </tr>\n",
       "  </thead>\n",
       "  <tbody>\n",
       "    <tr>\n",
       "      <th>109577</th>\n",
       "      <td>T_0</td>\n",
       "      <td>test_2021-03-01 02:30:02.237437</td>\n",
       "      <td>s_0</td>\n",
       "      <td>ct_1</td>\n",
       "      <td>m</td>\n",
       "      <td>2001</td>\n",
       "      <td>-1.00</td>\n",
       "      <td>0.0</td>\n",
       "    </tr>\n",
       "    <tr>\n",
       "      <th>59039</th>\n",
       "      <td>T_0</td>\n",
       "      <td>test_2021-03-01 02:30:02.237413</td>\n",
       "      <td>s_0</td>\n",
       "      <td>ct_0</td>\n",
       "      <td>f</td>\n",
       "      <td>2001</td>\n",
       "      <td>-1.00</td>\n",
       "      <td>0.0</td>\n",
       "    </tr>\n",
       "    <tr>\n",
       "      <th>47169</th>\n",
       "      <td>T_0</td>\n",
       "      <td>test_2021-03-01 02:30:02.237430</td>\n",
       "      <td>s_0</td>\n",
       "      <td>ct_1</td>\n",
       "      <td>m</td>\n",
       "      <td>2001</td>\n",
       "      <td>-1.00</td>\n",
       "      <td>0.0</td>\n",
       "    </tr>\n",
       "    <tr>\n",
       "      <th>129823</th>\n",
       "      <td>T_0</td>\n",
       "      <td>test_2021-03-01 02:30:02.237425</td>\n",
       "      <td>s_0</td>\n",
       "      <td>ct_0</td>\n",
       "      <td>f</td>\n",
       "      <td>2001</td>\n",
       "      <td>-1.00</td>\n",
       "      <td>0.0</td>\n",
       "    </tr>\n",
       "    <tr>\n",
       "      <th>151885</th>\n",
       "      <td>T_0</td>\n",
       "      <td>test_2021-03-01 02:30:02.237435</td>\n",
       "      <td>s_0</td>\n",
       "      <td>ct_1</td>\n",
       "      <td>m</td>\n",
       "      <td>2001</td>\n",
       "      <td>-1.00</td>\n",
       "      <td>0.0</td>\n",
       "    </tr>\n",
       "    <tr>\n",
       "      <th>...</th>\n",
       "      <td>...</td>\n",
       "      <td>...</td>\n",
       "      <td>...</td>\n",
       "      <td>...</td>\n",
       "      <td>...</td>\n",
       "      <td>...</td>\n",
       "      <td>...</td>\n",
       "      <td>...</td>\n",
       "    </tr>\n",
       "    <tr>\n",
       "      <th>317233</th>\n",
       "      <td>T_0</td>\n",
       "      <td>test_2021-03-01 02:30:02.237448</td>\n",
       "      <td>s_0</td>\n",
       "      <td>ct_0</td>\n",
       "      <td>f</td>\n",
       "      <td>2001</td>\n",
       "      <td>-1.00</td>\n",
       "      <td>0.0</td>\n",
       "    </tr>\n",
       "    <tr>\n",
       "      <th>137476</th>\n",
       "      <td>T_0</td>\n",
       "      <td>test_2021-03-01 02:30:02.237432</td>\n",
       "      <td>s_0</td>\n",
       "      <td>ct_0</td>\n",
       "      <td>f</td>\n",
       "      <td>2001</td>\n",
       "      <td>-1.00</td>\n",
       "      <td>0.0</td>\n",
       "    </tr>\n",
       "    <tr>\n",
       "      <th>57641</th>\n",
       "      <td>0_528</td>\n",
       "      <td>2021-06-24 18:55:00.312636</td>\n",
       "      <td>s_53240</td>\n",
       "      <td>c_5636</td>\n",
       "      <td>f</td>\n",
       "      <td>1989</td>\n",
       "      <td>0.62</td>\n",
       "      <td>0.0</td>\n",
       "    </tr>\n",
       "    <tr>\n",
       "      <th>25621</th>\n",
       "      <td>0_202</td>\n",
       "      <td>2021-05-14 15:26:20.597059</td>\n",
       "      <td>s_34456</td>\n",
       "      <td>c_5510</td>\n",
       "      <td>f</td>\n",
       "      <td>1941</td>\n",
       "      <td>0.62</td>\n",
       "      <td>0.0</td>\n",
       "    </tr>\n",
       "    <tr>\n",
       "      <th>250941</th>\n",
       "      <td>0_202</td>\n",
       "      <td>2021-03-05 17:06:24.511487</td>\n",
       "      <td>s_2176</td>\n",
       "      <td>c_5277</td>\n",
       "      <td>m</td>\n",
       "      <td>1976</td>\n",
       "      <td>0.62</td>\n",
       "      <td>0.0</td>\n",
       "    </tr>\n",
       "  </tbody>\n",
       "</table>\n",
       "<p>77 rows × 8 columns</p>\n",
       "</div>"
      ],
      "text/plain": [
       "       id_prod                             Date session_id client_id Sexe  \\\n",
       "109577     T_0  test_2021-03-01 02:30:02.237437        s_0      ct_1    m   \n",
       "59039      T_0  test_2021-03-01 02:30:02.237413        s_0      ct_0    f   \n",
       "47169      T_0  test_2021-03-01 02:30:02.237430        s_0      ct_1    m   \n",
       "129823     T_0  test_2021-03-01 02:30:02.237425        s_0      ct_0    f   \n",
       "151885     T_0  test_2021-03-01 02:30:02.237435        s_0      ct_1    m   \n",
       "...        ...                              ...        ...       ...  ...   \n",
       "317233     T_0  test_2021-03-01 02:30:02.237448        s_0      ct_0    f   \n",
       "137476     T_0  test_2021-03-01 02:30:02.237432        s_0      ct_0    f   \n",
       "57641    0_528       2021-06-24 18:55:00.312636    s_53240    c_5636    f   \n",
       "25621    0_202       2021-05-14 15:26:20.597059    s_34456    c_5510    f   \n",
       "250941   0_202       2021-03-05 17:06:24.511487     s_2176    c_5277    m   \n",
       "\n",
       "        Naissance  Prix  Catégorie  \n",
       "109577       2001 -1.00        0.0  \n",
       "59039        2001 -1.00        0.0  \n",
       "47169        2001 -1.00        0.0  \n",
       "129823       2001 -1.00        0.0  \n",
       "151885       2001 -1.00        0.0  \n",
       "...           ...   ...        ...  \n",
       "317233       2001 -1.00        0.0  \n",
       "137476       2001 -1.00        0.0  \n",
       "57641        1989  0.62        0.0  \n",
       "25621        1941  0.62        0.0  \n",
       "250941       1976  0.62        0.0  \n",
       "\n",
       "[77 rows x 8 columns]"
      ]
     },
     "execution_count": 927,
     "metadata": {},
     "output_type": "execute_result"
    }
   ],
   "source": [
    "# 'Prix' contient 74 valeurs aberrantes\n",
    "data.sort_values(by=['Prix']).head(77)\n",
    "\n",
    "# --> La seule valeur aberrante est -1"
   ]
  },
  {
   "cell_type": "code",
   "execution_count": 928,
   "metadata": {},
   "outputs": [
    {
     "name": "stdout",
     "output_type": "stream",
     "text": [
      "La valeur -1 est présente 74 fois dans la variable 'Prix'\n"
     ]
    }
   ],
   "source": [
    "# Nombre d'occurences de la valeur -1 dans 'price'\n",
    "print(\n",
    "    'La valeur -1 est présente',\n",
    "    len(data[data['Prix'] == -1]),\n",
    "    'fois dans la variable \\'Prix\\''\n",
    "    )"
   ]
  },
  {
   "cell_type": "code",
   "execution_count": 929,
   "metadata": {},
   "outputs": [
    {
     "data": {
      "text/html": [
       "<div>\n",
       "<style scoped>\n",
       "    .dataframe tbody tr th:only-of-type {\n",
       "        vertical-align: middle;\n",
       "    }\n",
       "\n",
       "    .dataframe tbody tr th {\n",
       "        vertical-align: top;\n",
       "    }\n",
       "\n",
       "    .dataframe thead th {\n",
       "        text-align: right;\n",
       "    }\n",
       "</style>\n",
       "<table border=\"1\" class=\"dataframe\">\n",
       "  <thead>\n",
       "    <tr style=\"text-align: right;\">\n",
       "      <th></th>\n",
       "      <th>id_prod</th>\n",
       "      <th>Date</th>\n",
       "      <th>session_id</th>\n",
       "      <th>client_id</th>\n",
       "      <th>Sexe</th>\n",
       "      <th>Naissance</th>\n",
       "      <th>Prix</th>\n",
       "      <th>Catégorie</th>\n",
       "    </tr>\n",
       "  </thead>\n",
       "  <tbody>\n",
       "    <tr>\n",
       "      <th>203184</th>\n",
       "      <td>T_0</td>\n",
       "      <td>test_2021-03-01 02:30:02.237449</td>\n",
       "      <td>s_0</td>\n",
       "      <td>ct_0</td>\n",
       "      <td>f</td>\n",
       "      <td>2001</td>\n",
       "      <td>-1.0</td>\n",
       "      <td>0.0</td>\n",
       "    </tr>\n",
       "    <tr>\n",
       "      <th>245271</th>\n",
       "      <td>T_0</td>\n",
       "      <td>test_2021-03-01 02:30:02.237449</td>\n",
       "      <td>s_0</td>\n",
       "      <td>ct_1</td>\n",
       "      <td>m</td>\n",
       "      <td>2001</td>\n",
       "      <td>-1.0</td>\n",
       "      <td>0.0</td>\n",
       "    </tr>\n",
       "    <tr>\n",
       "      <th>38778</th>\n",
       "      <td>T_0</td>\n",
       "      <td>test_2021-03-01 02:30:02.237450</td>\n",
       "      <td>s_0</td>\n",
       "      <td>ct_0</td>\n",
       "      <td>f</td>\n",
       "      <td>2001</td>\n",
       "      <td>-1.0</td>\n",
       "      <td>0.0</td>\n",
       "    </tr>\n",
       "  </tbody>\n",
       "</table>\n",
       "</div>"
      ],
      "text/plain": [
       "       id_prod                             Date session_id client_id Sexe  \\\n",
       "203184     T_0  test_2021-03-01 02:30:02.237449        s_0      ct_0    f   \n",
       "245271     T_0  test_2021-03-01 02:30:02.237449        s_0      ct_1    m   \n",
       "38778      T_0  test_2021-03-01 02:30:02.237450        s_0      ct_0    f   \n",
       "\n",
       "        Naissance  Prix  Catégorie  \n",
       "203184       2001  -1.0        0.0  \n",
       "245271       2001  -1.0        0.0  \n",
       "38778        2001  -1.0        0.0  "
      ]
     },
     "execution_count": 929,
     "metadata": {},
     "output_type": "execute_result"
    }
   ],
   "source": [
    "# Les dernières valeurs de 'Date' ont pour préfixe 'test_'\n",
    "data.sort_values(by=['Date']).tail(3)"
   ]
  },
  {
   "cell_type": "code",
   "execution_count": 930,
   "metadata": {},
   "outputs": [
    {
     "name": "stdout",
     "output_type": "stream",
     "text": [
      "Il y a 74 dates ayant 'test_' pour préfixe\n"
     ]
    }
   ],
   "source": [
    "# Nombre d'occurences du préfixe 'test_'\n",
    "print(\n",
    "    'Il y a',\n",
    "    data['Date'].str.contains('test_').value_counts().tolist()[1],\n",
    "    'dates ayant \\'test_\\' pour préfixe'\n",
    "    )"
   ]
  },
  {
   "cell_type": "code",
   "execution_count": 931,
   "metadata": {},
   "outputs": [
    {
     "data": {
      "text/html": [
       "<div>\n",
       "<style scoped>\n",
       "    .dataframe tbody tr th:only-of-type {\n",
       "        vertical-align: middle;\n",
       "    }\n",
       "\n",
       "    .dataframe tbody tr th {\n",
       "        vertical-align: top;\n",
       "    }\n",
       "\n",
       "    .dataframe thead th {\n",
       "        text-align: right;\n",
       "    }\n",
       "</style>\n",
       "<table border=\"1\" class=\"dataframe\">\n",
       "  <thead>\n",
       "    <tr style=\"text-align: right;\">\n",
       "      <th></th>\n",
       "      <th>id_prod</th>\n",
       "      <th>Date</th>\n",
       "      <th>session_id</th>\n",
       "      <th>client_id</th>\n",
       "      <th>Sexe</th>\n",
       "      <th>Naissance</th>\n",
       "      <th>Prix</th>\n",
       "      <th>Catégorie</th>\n",
       "    </tr>\n",
       "  </thead>\n",
       "  <tbody>\n",
       "    <tr>\n",
       "      <th>1431</th>\n",
       "      <td>T_0</td>\n",
       "      <td>test_2021-03-01 02:30:02.237420</td>\n",
       "      <td>s_0</td>\n",
       "      <td>ct_1</td>\n",
       "      <td>m</td>\n",
       "      <td>2001</td>\n",
       "      <td>-1.0</td>\n",
       "      <td>0.0</td>\n",
       "    </tr>\n",
       "    <tr>\n",
       "      <th>2365</th>\n",
       "      <td>T_0</td>\n",
       "      <td>test_2021-03-01 02:30:02.237446</td>\n",
       "      <td>s_0</td>\n",
       "      <td>ct_1</td>\n",
       "      <td>m</td>\n",
       "      <td>2001</td>\n",
       "      <td>-1.0</td>\n",
       "      <td>0.0</td>\n",
       "    </tr>\n",
       "    <tr>\n",
       "      <th>2895</th>\n",
       "      <td>T_0</td>\n",
       "      <td>test_2021-03-01 02:30:02.237414</td>\n",
       "      <td>s_0</td>\n",
       "      <td>ct_1</td>\n",
       "      <td>m</td>\n",
       "      <td>2001</td>\n",
       "      <td>-1.0</td>\n",
       "      <td>0.0</td>\n",
       "    </tr>\n",
       "    <tr>\n",
       "      <th>5955</th>\n",
       "      <td>T_0</td>\n",
       "      <td>test_2021-03-01 02:30:02.237441</td>\n",
       "      <td>s_0</td>\n",
       "      <td>ct_0</td>\n",
       "      <td>f</td>\n",
       "      <td>2001</td>\n",
       "      <td>-1.0</td>\n",
       "      <td>0.0</td>\n",
       "    </tr>\n",
       "    <tr>\n",
       "      <th>7283</th>\n",
       "      <td>T_0</td>\n",
       "      <td>test_2021-03-01 02:30:02.237434</td>\n",
       "      <td>s_0</td>\n",
       "      <td>ct_1</td>\n",
       "      <td>m</td>\n",
       "      <td>2001</td>\n",
       "      <td>-1.0</td>\n",
       "      <td>0.0</td>\n",
       "    </tr>\n",
       "    <tr>\n",
       "      <th>...</th>\n",
       "      <td>...</td>\n",
       "      <td>...</td>\n",
       "      <td>...</td>\n",
       "      <td>...</td>\n",
       "      <td>...</td>\n",
       "      <td>...</td>\n",
       "      <td>...</td>\n",
       "      <td>...</td>\n",
       "    </tr>\n",
       "    <tr>\n",
       "      <th>264229</th>\n",
       "      <td>T_0</td>\n",
       "      <td>test_2021-03-01 02:30:02.237416</td>\n",
       "      <td>s_0</td>\n",
       "      <td>ct_1</td>\n",
       "      <td>m</td>\n",
       "      <td>2001</td>\n",
       "      <td>-1.0</td>\n",
       "      <td>0.0</td>\n",
       "    </tr>\n",
       "    <tr>\n",
       "      <th>288815</th>\n",
       "      <td>T_0</td>\n",
       "      <td>test_2021-03-01 02:30:02.237415</td>\n",
       "      <td>s_0</td>\n",
       "      <td>ct_1</td>\n",
       "      <td>m</td>\n",
       "      <td>2001</td>\n",
       "      <td>-1.0</td>\n",
       "      <td>0.0</td>\n",
       "    </tr>\n",
       "    <tr>\n",
       "      <th>293003</th>\n",
       "      <td>T_0</td>\n",
       "      <td>test_2021-03-01 02:30:02.237421</td>\n",
       "      <td>s_0</td>\n",
       "      <td>ct_0</td>\n",
       "      <td>f</td>\n",
       "      <td>2001</td>\n",
       "      <td>-1.0</td>\n",
       "      <td>0.0</td>\n",
       "    </tr>\n",
       "    <tr>\n",
       "      <th>298292</th>\n",
       "      <td>T_0</td>\n",
       "      <td>test_2021-03-01 02:30:02.237423</td>\n",
       "      <td>s_0</td>\n",
       "      <td>ct_1</td>\n",
       "      <td>m</td>\n",
       "      <td>2001</td>\n",
       "      <td>-1.0</td>\n",
       "      <td>0.0</td>\n",
       "    </tr>\n",
       "    <tr>\n",
       "      <th>317233</th>\n",
       "      <td>T_0</td>\n",
       "      <td>test_2021-03-01 02:30:02.237448</td>\n",
       "      <td>s_0</td>\n",
       "      <td>ct_0</td>\n",
       "      <td>f</td>\n",
       "      <td>2001</td>\n",
       "      <td>-1.0</td>\n",
       "      <td>0.0</td>\n",
       "    </tr>\n",
       "  </tbody>\n",
       "</table>\n",
       "<p>74 rows × 8 columns</p>\n",
       "</div>"
      ],
      "text/plain": [
       "       id_prod                             Date session_id client_id Sexe  \\\n",
       "1431       T_0  test_2021-03-01 02:30:02.237420        s_0      ct_1    m   \n",
       "2365       T_0  test_2021-03-01 02:30:02.237446        s_0      ct_1    m   \n",
       "2895       T_0  test_2021-03-01 02:30:02.237414        s_0      ct_1    m   \n",
       "5955       T_0  test_2021-03-01 02:30:02.237441        s_0      ct_0    f   \n",
       "7283       T_0  test_2021-03-01 02:30:02.237434        s_0      ct_1    m   \n",
       "...        ...                              ...        ...       ...  ...   \n",
       "264229     T_0  test_2021-03-01 02:30:02.237416        s_0      ct_1    m   \n",
       "288815     T_0  test_2021-03-01 02:30:02.237415        s_0      ct_1    m   \n",
       "293003     T_0  test_2021-03-01 02:30:02.237421        s_0      ct_0    f   \n",
       "298292     T_0  test_2021-03-01 02:30:02.237423        s_0      ct_1    m   \n",
       "317233     T_0  test_2021-03-01 02:30:02.237448        s_0      ct_0    f   \n",
       "\n",
       "        Naissance  Prix  Catégorie  \n",
       "1431         2001  -1.0        0.0  \n",
       "2365         2001  -1.0        0.0  \n",
       "2895         2001  -1.0        0.0  \n",
       "5955         2001  -1.0        0.0  \n",
       "7283         2001  -1.0        0.0  \n",
       "...           ...   ...        ...  \n",
       "264229       2001  -1.0        0.0  \n",
       "288815       2001  -1.0        0.0  \n",
       "293003       2001  -1.0        0.0  \n",
       "298292       2001  -1.0        0.0  \n",
       "317233       2001  -1.0        0.0  \n",
       "\n",
       "[74 rows x 8 columns]"
      ]
     },
     "execution_count": 931,
     "metadata": {},
     "output_type": "execute_result"
    }
   ],
   "source": [
    "lignes_test = data[(data['Prix'] == -1) & (data['Date'].str.contains('test_'))]\n",
    "lignes_test\n",
    "\n",
    "# --> La combinaison des 2 valeurs aberrantes renvoie bien aux mêmes 74 lignes"
   ]
  },
  {
   "cell_type": "code",
   "execution_count": 932,
   "metadata": {},
   "outputs": [
    {
     "name": "stdout",
     "output_type": "stream",
     "text": [
      "74 lignes supprimées\n"
     ]
    }
   ],
   "source": [
    "# Nombre de lignes dans le dataset\n",
    "len_data_before = len(data)\n",
    "\n",
    "# Supprimer les lignes test via leur index\n",
    "data.drop(lignes_test.index, inplace=True)\n",
    "\n",
    "# Nombre de lignes dans le dataset après nettoyage\n",
    "print(len_data_before - len(data), 'lignes supprimées')"
   ]
  },
  {
   "cell_type": "code",
   "execution_count": 933,
   "metadata": {},
   "outputs": [
    {
     "name": "stdout",
     "output_type": "stream",
     "text": [
      "\u001b[1mType de la variable date :\n",
      "\u001b[0mAvant conversion : <class 'str'>\n",
      "Après conversion : <class 'pandas._libs.tslibs.timestamps.Timestamp'>\n"
     ]
    }
   ],
   "source": [
    "# Type de la variable 'date' avant conversion \n",
    "print(\n",
    "    style.bold + 'Type de la variable date :\\n' + style.end +\n",
    "    'Avant conversion :', type(data['Date'].loc[0])\n",
    ")\n",
    "\n",
    "# Conversion de la variable 'date' en datetime\n",
    "data['Date'] = pd.to_datetime(data['Date'], format='%Y-%m-%d')\n",
    "\n",
    "# Type, après conversion\n",
    "print('Après conversion :', type(data['Date'].loc[0]))"
   ]
  },
  {
   "cell_type": "markdown",
   "metadata": {},
   "source": [
    "## Valeurs manquantes : NaN "
   ]
  },
  {
   "cell_type": "markdown",
   "metadata": {},
   "source": [
    "### Identification\n",
    "- *'Catégorie'* et *'Prix'* contiennent 103 valeurs manquantes\n",
    "- Toutes sont communes à 103 lignes référençant un produit unique : 0_2245\n",
    "- Ces lignes représentent 0.03% du dataset : on pourrait les supprimer sans fausser les analyses\n",
    "- On va tout de même tenter de remplacer les valeurs manquantes, en créant au préalable un sous-échantillon ne contenant que le produit 0_2245 "
   ]
  },
  {
   "cell_type": "code",
   "execution_count": 934,
   "metadata": {},
   "outputs": [
    {
     "name": "stdout",
     "output_type": "stream",
     "text": [
      "Il y a 103 lignes n'ayant pas de valeur dans 'Catégorie' : toutes ont ['0_2245'] pour 'id_prod'\n",
      "Il y a 103 lignes n'ayant pas de valeur dans 'Prix' : toutes ont ['0_2245'] pour 'id_prod'\n"
     ]
    }
   ],
   "source": [
    "# Vérification de la présence de NaN dans les colonnes 'categ' et 'price'\n",
    "# Et identification du produit concerné\n",
    "def verif_nan(colonne):\n",
    "  # Lignes ayant une valeur nulle dans 'colonne'\n",
    "  null = data[data[colonne].isnull()]\n",
    "  print(\n",
    "    'Il y a', len(null), 'lignes n\\'ayant pas de valeur dans \\'' + colonne + '\\' :',\n",
    "    'toutes ont', null['id_prod'].unique(), 'pour \\'id_prod\\''\n",
    "  )\n",
    "\n",
    "verif_nan('Catégorie')\n",
    "verif_nan('Prix')"
   ]
  },
  {
   "cell_type": "code",
   "execution_count": 935,
   "metadata": {},
   "outputs": [
    {
     "data": {
      "text/html": [
       "<div>\n",
       "<style scoped>\n",
       "    .dataframe tbody tr th:only-of-type {\n",
       "        vertical-align: middle;\n",
       "    }\n",
       "\n",
       "    .dataframe tbody tr th {\n",
       "        vertical-align: top;\n",
       "    }\n",
       "\n",
       "    .dataframe thead th {\n",
       "        text-align: right;\n",
       "    }\n",
       "</style>\n",
       "<table border=\"1\" class=\"dataframe\">\n",
       "  <thead>\n",
       "    <tr style=\"text-align: right;\">\n",
       "      <th></th>\n",
       "      <th>id_prod</th>\n",
       "      <th>Date</th>\n",
       "      <th>session_id</th>\n",
       "      <th>client_id</th>\n",
       "      <th>Sexe</th>\n",
       "      <th>Naissance</th>\n",
       "      <th>Prix</th>\n",
       "      <th>Catégorie</th>\n",
       "    </tr>\n",
       "  </thead>\n",
       "  <tbody>\n",
       "    <tr>\n",
       "      <th>6235</th>\n",
       "      <td>0_2245</td>\n",
       "      <td>2021-06-17 03:03:12.668129</td>\n",
       "      <td>s_49705</td>\n",
       "      <td>c_1533</td>\n",
       "      <td>m</td>\n",
       "      <td>1972</td>\n",
       "      <td>NaN</td>\n",
       "      <td>NaN</td>\n",
       "    </tr>\n",
       "    <tr>\n",
       "      <th>10802</th>\n",
       "      <td>0_2245</td>\n",
       "      <td>2021-06-16 05:53:01.627491</td>\n",
       "      <td>s_49323</td>\n",
       "      <td>c_7954</td>\n",
       "      <td>m</td>\n",
       "      <td>1973</td>\n",
       "      <td>NaN</td>\n",
       "      <td>NaN</td>\n",
       "    </tr>\n",
       "    <tr>\n",
       "      <th>14051</th>\n",
       "      <td>0_2245</td>\n",
       "      <td>2021-11-24 17:35:59.911427</td>\n",
       "      <td>s_124474</td>\n",
       "      <td>c_5120</td>\n",
       "      <td>f</td>\n",
       "      <td>1975</td>\n",
       "      <td>NaN</td>\n",
       "      <td>NaN</td>\n",
       "    </tr>\n",
       "    <tr>\n",
       "      <th>17486</th>\n",
       "      <td>0_2245</td>\n",
       "      <td>2022-02-28 18:08:49.875709</td>\n",
       "      <td>s_172304</td>\n",
       "      <td>c_4964</td>\n",
       "      <td>f</td>\n",
       "      <td>1982</td>\n",
       "      <td>NaN</td>\n",
       "      <td>NaN</td>\n",
       "    </tr>\n",
       "    <tr>\n",
       "      <th>21078</th>\n",
       "      <td>0_2245</td>\n",
       "      <td>2021-03-01 00:09:29.301897</td>\n",
       "      <td>s_3</td>\n",
       "      <td>c_580</td>\n",
       "      <td>m</td>\n",
       "      <td>1988</td>\n",
       "      <td>NaN</td>\n",
       "      <td>NaN</td>\n",
       "    </tr>\n",
       "    <tr>\n",
       "      <th>...</th>\n",
       "      <td>...</td>\n",
       "      <td>...</td>\n",
       "      <td>...</td>\n",
       "      <td>...</td>\n",
       "      <td>...</td>\n",
       "      <td>...</td>\n",
       "      <td>...</td>\n",
       "      <td>...</td>\n",
       "    </tr>\n",
       "    <tr>\n",
       "      <th>322597</th>\n",
       "      <td>0_2245</td>\n",
       "      <td>2021-04-06 19:59:19.462288</td>\n",
       "      <td>s_16936</td>\n",
       "      <td>c_4167</td>\n",
       "      <td>f</td>\n",
       "      <td>1979</td>\n",
       "      <td>NaN</td>\n",
       "      <td>NaN</td>\n",
       "    </tr>\n",
       "    <tr>\n",
       "      <th>329300</th>\n",
       "      <td>0_2245</td>\n",
       "      <td>2021-03-30 23:29:02.347672</td>\n",
       "      <td>s_13738</td>\n",
       "      <td>c_7790</td>\n",
       "      <td>f</td>\n",
       "      <td>1983</td>\n",
       "      <td>NaN</td>\n",
       "      <td>NaN</td>\n",
       "    </tr>\n",
       "    <tr>\n",
       "      <th>330371</th>\n",
       "      <td>0_2245</td>\n",
       "      <td>2021-12-03 14:14:40.444177</td>\n",
       "      <td>s_128815</td>\n",
       "      <td>c_6189</td>\n",
       "      <td>f</td>\n",
       "      <td>1984</td>\n",
       "      <td>NaN</td>\n",
       "      <td>NaN</td>\n",
       "    </tr>\n",
       "    <tr>\n",
       "      <th>335405</th>\n",
       "      <td>0_2245</td>\n",
       "      <td>2021-04-27 18:58:47.703374</td>\n",
       "      <td>s_26624</td>\n",
       "      <td>c_1595</td>\n",
       "      <td>f</td>\n",
       "      <td>1973</td>\n",
       "      <td>NaN</td>\n",
       "      <td>NaN</td>\n",
       "    </tr>\n",
       "    <tr>\n",
       "      <th>336094</th>\n",
       "      <td>0_2245</td>\n",
       "      <td>2021-05-01 03:35:03.146305</td>\n",
       "      <td>s_28235</td>\n",
       "      <td>c_5714</td>\n",
       "      <td>f</td>\n",
       "      <td>1972</td>\n",
       "      <td>NaN</td>\n",
       "      <td>NaN</td>\n",
       "    </tr>\n",
       "  </tbody>\n",
       "</table>\n",
       "<p>103 rows × 8 columns</p>\n",
       "</div>"
      ],
      "text/plain": [
       "       id_prod                       Date session_id client_id Sexe  \\\n",
       "6235    0_2245 2021-06-17 03:03:12.668129    s_49705    c_1533    m   \n",
       "10802   0_2245 2021-06-16 05:53:01.627491    s_49323    c_7954    m   \n",
       "14051   0_2245 2021-11-24 17:35:59.911427   s_124474    c_5120    f   \n",
       "17486   0_2245 2022-02-28 18:08:49.875709   s_172304    c_4964    f   \n",
       "21078   0_2245 2021-03-01 00:09:29.301897        s_3     c_580    m   \n",
       "...        ...                        ...        ...       ...  ...   \n",
       "322597  0_2245 2021-04-06 19:59:19.462288    s_16936    c_4167    f   \n",
       "329300  0_2245 2021-03-30 23:29:02.347672    s_13738    c_7790    f   \n",
       "330371  0_2245 2021-12-03 14:14:40.444177   s_128815    c_6189    f   \n",
       "335405  0_2245 2021-04-27 18:58:47.703374    s_26624    c_1595    f   \n",
       "336094  0_2245 2021-05-01 03:35:03.146305    s_28235    c_5714    f   \n",
       "\n",
       "        Naissance  Prix  Catégorie  \n",
       "6235         1972   NaN        NaN  \n",
       "10802        1973   NaN        NaN  \n",
       "14051        1975   NaN        NaN  \n",
       "17486        1982   NaN        NaN  \n",
       "21078        1988   NaN        NaN  \n",
       "...           ...   ...        ...  \n",
       "322597       1979   NaN        NaN  \n",
       "329300       1983   NaN        NaN  \n",
       "330371       1984   NaN        NaN  \n",
       "335405       1973   NaN        NaN  \n",
       "336094       1972   NaN        NaN  \n",
       "\n",
       "[103 rows x 8 columns]"
      ]
     },
     "execution_count": 935,
     "metadata": {},
     "output_type": "execute_result"
    }
   ],
   "source": [
    "# Sous-échantillon ne contenant que le produit '0_2245'\n",
    "subset_2245 = data[data['id_prod']=='0_2245']\n",
    "subset_2245"
   ]
  },
  {
   "cell_type": "code",
   "execution_count": 936,
   "metadata": {},
   "outputs": [
    {
     "name": "stdout",
     "output_type": "stream",
     "text": [
      "Ce sous-échantillon représente 0.03 % de la population totale\n"
     ]
    }
   ],
   "source": [
    "print(\n",
    "    'Ce sous-échantillon représente',\n",
    "    round((len(subset_2245) / len(data) * 100), 2),\n",
    "    '% de la population totale'\n",
    ")"
   ]
  },
  {
   "cell_type": "markdown",
   "metadata": {},
   "source": [
    "### Indicateurs : sous-échantillon\n",
    "- Les variables *'id_prod'*, *'session_id'* et *'client_id'* ne peuvent pas aider à déterminer les valeurs manquantes\n",
    "- Les modalités des variables *'Date'* et *'Sexe'* sont distribuées uniformément : on ne peut pas se baser sur leurs indicateurs non plus\n",
    "- La variable *'Naissance'* affiche une fréquence de mode significative (8.7% pour l'année 1978) : on retient cet indicateur, dont on va rechercher les valeurs correspondantes dans la population totale"
   ]
  },
  {
   "cell_type": "code",
   "execution_count": 937,
   "metadata": {},
   "outputs": [
    {
     "data": {
      "image/png": "[encoded data removed]",
      "text/plain": [
       "<Figure size 360x360 with 1 Axes>"
      ]
     },
     "metadata": {},
     "output_type": "display_data"
    }
   ],
   "source": [
    "g = sns.displot(\n",
    "    subset_2245, \n",
    "    x=\"Date\",\n",
    "    binwidth=7, # (1 classe = 1 semaine)\n",
    "    #element='step'\n",
    "    )\n",
    "g = (g.set_axis_labels(\n",
    "    'Date d\\'achat',\n",
    "    'Produits vendus'\n",
    "))\n",
    "plt.title('Distribution des dates d\\'achat du produit 0_2245')\n",
    "plt.show(g)\n",
    "\n",
    "# --> Les dates sont assez normalement réparties sur toutes l'année\n",
    "# --> On ne peut pas se baser sur la date pour déterminer les données manquantes"
   ]
  },
  {
   "cell_type": "code",
   "execution_count": 938,
   "metadata": {},
   "outputs": [
    {
     "data": {
      "image/png": "[encoded data removed]",
      "text/plain": [
       "<Figure size 432x288 with 1 Axes>"
      ]
     },
     "metadata": {},
     "output_type": "display_data"
    }
   ],
   "source": [
    "# Proportion des modalités de la variable 'Sexe' dans le sous-échantillon\n",
    "a = subset_2245['Sexe'].value_counts(normalize=True).plot(\n",
    "    kind='pie',\n",
    "    legend=True,\n",
    "    autopct='%1.1f%%'\n",
    ")\n",
    "a.set(ylabel='Sexe')\n",
    "plt.title('Acheteurs du produit 2245')\n",
    "plt.show(a)\n",
    "\n",
    "# --> Presqu'autant d'hommes que de femmes ont acheté ce produit\n",
    "# --> L'écart n'est pas assez net pour qu'on détermine des données à partir de cette variable"
   ]
  },
  {
   "cell_type": "code",
   "execution_count": 939,
   "metadata": {},
   "outputs": [
    {
     "data": {
      "image/png": "[encoded data removed]",
      "text/plain": [
       "<Figure size 432x288 with 1 Axes>"
      ]
     },
     "metadata": {},
     "output_type": "display_data"
    }
   ],
   "source": [
    "# Box plot sur 'Naissance'\n",
    "c = sns.boxplot(data=subset_2245, x='Naissance')\n",
    "c.set(xlabel='Année de naissance')\n",
    "plt.title('Âges des acheteurs du produit 0_2245')\n",
    "plt.show(c)"
   ]
  },
  {
   "cell_type": "code",
   "execution_count": 940,
   "metadata": {},
   "outputs": [
    {
     "name": "stdout",
     "output_type": "stream",
     "text": [
      "\u001b[1mIndicateurs de position :\u001b[0m \n",
      "Mode(s) : [1978] (fréquence : 8.7 %) \n",
      "Moyenne : 1977.3 \n",
      "Médiane : 1979.0 \n",
      "1er quartile : 1973.0 \n",
      "3ème quartile : 1984.0 \u001b[1m\n",
      "Indicateurs de dispersion :\u001b[0m \n",
      "Minimum : 1933 \n",
      "Maximum : 2002 \n",
      "Étendue : 69 \n",
      "Variance : 137.4 \n",
      "Écart-type :  11.7 \n",
      "Coeff. de variation : 0.0 \n",
      "Skewness : -1.5 ( distribution étalée à gauche ) \n",
      "Kurtosis : 3.5 ( distribution moins aplatie que la normale gaussienne )\n"
     ]
    }
   ],
   "source": [
    "# Indicateurs de la variable 'Naissance'\n",
    "indicateurs(subset_2245, 'Naissance')\n",
    "\n",
    "# --> 8% des acheteurs de ce produit sont nés en 1978\n",
    "# --> Le pourcentage est significatif, vu la taille limitée de l'échantillon\n",
    "# --> On peut tenter de déterminer 'Catégorie' et 'Prix' à partir de 'Naissance'"
   ]
  },
  {
   "cell_type": "markdown",
   "metadata": {},
   "source": [
    "### Indicateurs : population totale\n",
    "- L'année 1978 se situe dans le deuxième quartile de la population totale, et à la limite du 3ème : on vérifiera les indicateurs de ces 2 tranches\n",
    "- Le mode de *'Catégorie'* pour ces 2 quartiles est 0 (fréquences supérieures à 70%) : on retient donc cette valeur"
   ]
  },
  {
   "cell_type": "code",
   "execution_count": 941,
   "metadata": {},
   "outputs": [
    {
     "data": {
      "image/png": "[encoded data removed]",
      "text/plain": [
       "<Figure size 432x288 with 1 Axes>"
      ]
     },
     "metadata": {},
     "output_type": "display_data"
    }
   ],
   "source": [
    "# Indicateurs de position de la variable 'Naissance'\n",
    "c = sns.boxplot(data=data, x='Naissance')\n",
    "c.set(xlabel='Année de naissance')\n",
    "plt.title('Répartition des âges de la population totale')\n",
    "plt.show(c)\n",
    "\n",
    "# --> Les clients du produit 0_2245 appartiennent à l'espace entre Q1 et la médiane\n",
    "# --> Ils sont situés à la limite de la médiane (analyser l'espace entre Q2 et Q3)"
   ]
  },
  {
   "cell_type": "code",
   "execution_count": 942,
   "metadata": {},
   "outputs": [
    {
     "name": "stderr",
     "output_type": "stream",
     "text": [
      "c:\\users\\guifo\\appdata\\local\\programs\\python\\python38\\lib\\site-packages\\pandas\\core\\indexing.py:670: SettingWithCopyWarning: \n",
      "A value is trying to be set on a copy of a slice from a DataFrame\n",
      "\n",
      "See the caveats in the documentation: https://pandas.pydata.org/pandas-docs/stable/user_guide/indexing.html#returning-a-view-versus-a-copy\n",
      "  iloc._setitem_with_indexer(indexer, value)\n"
     ]
    },
    {
     "data": {
      "text/html": [
       "<div>\n",
       "<style scoped>\n",
       "    .dataframe tbody tr th:only-of-type {\n",
       "        vertical-align: middle;\n",
       "    }\n",
       "\n",
       "    .dataframe tbody tr th {\n",
       "        vertical-align: top;\n",
       "    }\n",
       "\n",
       "    .dataframe thead th {\n",
       "        text-align: right;\n",
       "    }\n",
       "</style>\n",
       "<table border=\"1\" class=\"dataframe\">\n",
       "  <thead>\n",
       "    <tr style=\"text-align: right;\">\n",
       "      <th></th>\n",
       "      <th>id_prod</th>\n",
       "      <th>Date</th>\n",
       "      <th>session_id</th>\n",
       "      <th>client_id</th>\n",
       "      <th>Sexe</th>\n",
       "      <th>Naissance</th>\n",
       "      <th>Prix</th>\n",
       "      <th>Catégorie</th>\n",
       "      <th>Tranche âge</th>\n",
       "    </tr>\n",
       "  </thead>\n",
       "  <tbody>\n",
       "    <tr>\n",
       "      <th>110183</th>\n",
       "      <td>0_1503</td>\n",
       "      <td>2021-09-17 10:03:59.917194</td>\n",
       "      <td>s_91205</td>\n",
       "      <td>c_2940</td>\n",
       "      <td>f</td>\n",
       "      <td>1982</td>\n",
       "      <td>15.99</td>\n",
       "      <td>0.0</td>\n",
       "      <td>C</td>\n",
       "    </tr>\n",
       "    <tr>\n",
       "      <th>77939</th>\n",
       "      <td>0_1430</td>\n",
       "      <td>2021-05-10 08:40:05.141791</td>\n",
       "      <td>s_32476</td>\n",
       "      <td>c_798</td>\n",
       "      <td>m</td>\n",
       "      <td>1985</td>\n",
       "      <td>16.47</td>\n",
       "      <td>0.0</td>\n",
       "      <td>C</td>\n",
       "    </tr>\n",
       "    <tr>\n",
       "      <th>119678</th>\n",
       "      <td>2_39</td>\n",
       "      <td>2021-12-12 08:56:52.764308</td>\n",
       "      <td>s_133190</td>\n",
       "      <td>c_6714</td>\n",
       "      <td>f</td>\n",
       "      <td>1968</td>\n",
       "      <td>57.99</td>\n",
       "      <td>2.0</td>\n",
       "      <td>A</td>\n",
       "    </tr>\n",
       "    <tr>\n",
       "      <th>127937</th>\n",
       "      <td>0_1339</td>\n",
       "      <td>2021-05-14 12:00:04.914477</td>\n",
       "      <td>s_34384</td>\n",
       "      <td>c_682</td>\n",
       "      <td>f</td>\n",
       "      <td>1974</td>\n",
       "      <td>8.99</td>\n",
       "      <td>0.0</td>\n",
       "      <td>B</td>\n",
       "    </tr>\n",
       "    <tr>\n",
       "      <th>200568</th>\n",
       "      <td>0_1440</td>\n",
       "      <td>2021-03-05 14:55:00.444866</td>\n",
       "      <td>s_2141</td>\n",
       "      <td>c_2020</td>\n",
       "      <td>f</td>\n",
       "      <td>1973</td>\n",
       "      <td>5.62</td>\n",
       "      <td>0.0</td>\n",
       "      <td>B</td>\n",
       "    </tr>\n",
       "  </tbody>\n",
       "</table>\n",
       "</div>"
      ],
      "text/plain": [
       "       id_prod                       Date session_id client_id Sexe  \\\n",
       "110183  0_1503 2021-09-17 10:03:59.917194    s_91205    c_2940    f   \n",
       "77939   0_1430 2021-05-10 08:40:05.141791    s_32476     c_798    m   \n",
       "119678    2_39 2021-12-12 08:56:52.764308   s_133190    c_6714    f   \n",
       "127937  0_1339 2021-05-14 12:00:04.914477    s_34384     c_682    f   \n",
       "200568  0_1440 2021-03-05 14:55:00.444866     s_2141    c_2020    f   \n",
       "\n",
       "        Naissance   Prix  Catégorie Tranche âge  \n",
       "110183       1982  15.99        0.0           C  \n",
       "77939        1985  16.47        0.0           C  \n",
       "119678       1968  57.99        2.0           A  \n",
       "127937       1974   8.99        0.0           B  \n",
       "200568       1973   5.62        0.0           B  "
      ]
     },
     "execution_count": 942,
     "metadata": {},
     "output_type": "execute_result"
    }
   ],
   "source": [
    "# Découpage de la population en 4 quartiles de la variable 'Naissance'\n",
    "quartile_1 = data[data['Naissance'] < data['Naissance'].quantile(.25)]\n",
    "quartile_2 = data[\n",
    "    (data['Naissance'] >= data['Naissance'].quantile(.25))\n",
    "    & (data['Naissance'] < data['Naissance'].quantile(.5))\n",
    "]\n",
    "quartile_3 = data[\n",
    "    (data['Naissance'] >= data['Naissance'].quantile(.5))\n",
    "    & (data['Naissance'] < data['Naissance'].quantile(.75))\n",
    "]\n",
    "quartile_4 = data[data['Naissance'] >= data['Naissance'].quantile(.75)]\n",
    "\n",
    "# Ajout d'une colonne indiquant la tranche d'âge\n",
    "data['Tranche âge'] = ''\n",
    "data['Tranche âge'].loc[quartile_1.index] = 'A'\n",
    "data['Tranche âge'].loc[quartile_2.index] = 'B'\n",
    "data['Tranche âge'].loc[quartile_3.index] = 'C'\n",
    "data['Tranche âge'].loc[quartile_4.index] = 'D'\n",
    "\n",
    "data.sample(5)"
   ]
  },
  {
   "cell_type": "code",
   "execution_count": 943,
   "metadata": {},
   "outputs": [
    {
     "name": "stdout",
     "output_type": "stream",
     "text": [
      "\u001b[1m\u001b[92mSous-échantillon : 2ème quartile de 'Naissance'\n",
      "\u001b[0m\n",
      "\u001b[4m\u001b[91mCatégorie :\u001b[0m\n",
      "\u001b[1mIndicateurs de position :\u001b[0m \n",
      "Mode(s) : [0.0] (fréquence : 75.0 %) \n",
      "Moyenne : 0.3 \n",
      "Médiane : 0.0 \n",
      "1er quartile : 0.0 \n",
      "3ème quartile : 1.0 \u001b[1m\n",
      "Indicateurs de dispersion :\u001b[0m \n",
      "Minimum : 0.0 \n",
      "Maximum : 2.0 \n",
      "Étendue : 2.0 \n",
      "Variance : 0.2 \n",
      "Écart-type :  0.4 \n",
      "Coeff. de variation : 1.7 \n",
      "Skewness : 1.2 ( distribution étalée à droite ) \n",
      "Kurtosis : -0.2 ( distribution plus aplatie que la normale gaussienne )\n",
      "\n",
      "\n",
      "\u001b[1m\u001b[92mSous-échantillon : 3ème quartile de 'Naissance'\n",
      "\u001b[0m\n",
      "\u001b[4m\u001b[91mCatégorie :\u001b[0m\n",
      "\u001b[1mIndicateurs de position :\u001b[0m \n",
      "Mode(s) : [0.0] (fréquence : 77.1 %) \n",
      "Moyenne : 0.2 \n",
      "Médiane : 0.0 \n",
      "1er quartile : 0.0 \n",
      "3ème quartile : 0.0 \u001b[1m\n",
      "Indicateurs de dispersion :\u001b[0m \n",
      "Minimum : 0.0 \n",
      "Maximum : 2.0 \n",
      "Étendue : 2.0 \n",
      "Variance : 0.2 \n",
      "Écart-type :  0.4 \n",
      "Coeff. de variation : 1.8 \n",
      "Skewness : 1.4 ( distribution étalée à droite ) \n",
      "Kurtosis : 0.2 ( distribution moins aplatie que la normale gaussienne )\n"
     ]
    }
   ],
   "source": [
    "# Indicateurs de catégorie du 2ème quartile de 'Naissance'\n",
    "print(style.bold + style.green + 'Sous-échantillon : 2ème quartile de \\'Naissance\\'\\n' + style.end)\n",
    "print(style.underline + style.red + 'Catégorie :' + style.end)\n",
    "indicateurs(quartile_2, 'Catégorie')\n",
    "\n",
    "# Indicateurs de catégorie du 3ème quartile de 'Naissance'\n",
    "print('\\n\\n' + style.bold + style.green + 'Sous-échantillon : 3ème quartile de \\'Naissance\\'\\n' + style.end)\n",
    "print(style.underline + style.red + 'Catégorie :' + style.end)\n",
    "indicateurs(quartile_3, 'Catégorie')\n",
    "\n",
    "# --> Pour 'Catégorie', la fréquence du mode est significative, et correspond à la médiane\n",
    "# --> L'indicateur est quasiment le même pour le 2ème et le 3ème quartile\n",
    "# --> On retient la catégorie 0 pour cette tranche d'âge"
   ]
  },
  {
   "cell_type": "markdown",
   "metadata": {},
   "source": [
    "### Corrélation entre *'Catégorie'* et *'Prix'*\n",
    "- Les 3 catégories sont corrélées à la variable *'Prix'*, chacune correspondant plus ou moins à une tranche de valeurs (le 1er caractère des valeurs de *'id_prod'* est d'ailleurs égal à *'Catégorie'*)\n",
    "- Pour la catégorie 0, les indicateurs de *'Prix'* sont quasiment identiques entre les 2 quartiles d'âges\n",
    "- La fréquence de leur mode (4%) est insuffisante : on retient donc la médiane, 9.99 (valeur identique pour l'ensemble de la population)"
   ]
  },
  {
   "cell_type": "code",
   "execution_count": 944,
   "metadata": {},
   "outputs": [
    {
     "data": {
      "image/png": "[encoded data removed]",
      "text/plain": [
       "<Figure size 432x288 with 1 Axes>"
      ]
     },
     "metadata": {},
     "output_type": "display_data"
    }
   ],
   "source": [
    "# Corrélation entre 'Catégorie' et 'Prix'\n",
    "f = sns.boxplot(\n",
    "    data=data, \n",
    "    x='Catégorie', \n",
    "    y='Prix',\n",
    "    showfliers=False # Cacher les outliers pour une meilleure visibilité\n",
    ")\n",
    "plt.title('Répartition des prix par catégorie')\n",
    "plt.show(f)\n",
    "\n",
    "# --> La catégorie est corrélée au prix\n",
    "# --> Les catégories correspondent à 3 gammes de prix ordonnées"
   ]
  },
  {
   "cell_type": "code",
   "execution_count": 945,
   "metadata": {},
   "outputs": [
    {
     "name": "stdout",
     "output_type": "stream",
     "text": [
      "Valeur unique dans 0.0 : ['0_']\n",
      "Valeur unique dans 2.0 : ['2_']\n",
      "Valeur unique dans 1.0 : ['1_']\n"
     ]
    },
    {
     "name": "stderr",
     "output_type": "stream",
     "text": [
      "<ipython-input-945-8234b3b5a788>:5: SettingWithCopyWarning: \n",
      "A value is trying to be set on a copy of a slice from a DataFrame.\n",
      "Try using .loc[row_indexer,col_indexer] = value instead\n",
      "\n",
      "See the caveats in the documentation: https://pandas.pydata.org/pandas-docs/stable/user_guide/indexing.html#returning-a-view-versus-a-copy\n",
      "  data_test['id_prod'] = data_test['id_prod'].str[:2]\n"
     ]
    }
   ],
   "source": [
    "# Dataframe-test\n",
    "data_test = data.dropna()\n",
    "\n",
    "# Réduction de la variable 'id_prod' à 2 caractères\n",
    "data_test['id_prod'] = data_test['id_prod'].str[:2]\n",
    "\n",
    "# Valeurs uniques pour chaque catégorie dans 'id_prod'\n",
    "for i in data_test['Catégorie'].unique():\n",
    "    print(\n",
    "        'Valeur unique dans', i, ':',\n",
    "        data_test[data_test['Catégorie']==i]['id_prod'].unique()\n",
    "    )\n",
    "\n",
    "# Les préfixes des identifiants produits correspondent à leur catégorie"
   ]
  },
  {
   "cell_type": "code",
   "execution_count": 946,
   "metadata": {},
   "outputs": [
    {
     "name": "stdout",
     "output_type": "stream",
     "text": [
      "\u001b[1m\u001b[92mSous-échantillon : 2ème quartile de 'Naissance'\u001b[0m \u001b[4m\u001b[91m\n",
      "Indicateurs de 'Prix' pour la catégorie 0\n",
      "\u001b[0m\n",
      "\u001b[1mIndicateurs de position :\u001b[0m \n",
      "Mode(s) : [4.99] (fréquence : 4.5 %) \n",
      "Moyenne : 10.6 \n",
      "Médiane : 9.99 \n",
      "1er quartile : 6.2 \n",
      "3ème quartile : 14.4 \u001b[1m\n",
      "Indicateurs de dispersion :\u001b[0m \n",
      "Minimum : 0.62 \n",
      "Maximum : 40.99 \n",
      "Étendue : 40.4 \n",
      "Variance : 24.2 \n",
      "Écart-type :  4.9 \n",
      "Coeff. de variation : 0.5 \n",
      "Skewness : 0.4 ( distribution étalée à droite ) \n",
      "Kurtosis : -0.4 ( distribution plus aplatie que la normale gaussienne )\n",
      "\u001b[1m\u001b[92m\n",
      "\n",
      "Sous-échantillon : 3ème quartile de 'Naissance'\u001b[0m \u001b[4m\u001b[91m\n",
      "Indicateurs de 'Prix' pour la catégorie 0\n",
      "\u001b[0m\n",
      "\u001b[1mIndicateurs de position :\u001b[0m \n",
      "Mode(s) : [4.99] (fréquence : 4.4 %) \n",
      "Moyenne : 10.7 \n",
      "Médiane : 9.99 \n",
      "1er quartile : 6.3 \n",
      "3ème quartile : 14.4 \u001b[1m\n",
      "Indicateurs de dispersion :\u001b[0m \n",
      "Minimum : 0.62 \n",
      "Maximum : 39.99 \n",
      "Étendue : 39.4 \n",
      "Variance : 24.3 \n",
      "Écart-type :  4.9 \n",
      "Coeff. de variation : 0.5 \n",
      "Skewness : 0.4 ( distribution étalée à droite ) \n",
      "Kurtosis : -0.4 ( distribution plus aplatie que la normale gaussienne )\n"
     ]
    }
   ],
   "source": [
    "# Indicateurs de 'Prix' pour la modalité 0 de 'Catégorie', dans le 2ème quartile d'âge\n",
    "print(\n",
    "    style.bold + style.green + 'Sous-échantillon : 2ème quartile de \\'Naissance\\'' + style.end,\n",
    "    style.underline + style.red + '\\nIndicateurs de \\'Prix\\' pour la catégorie 0\\n' + style.end\n",
    ")\n",
    "indicateurs(quartile_2[quartile_2['Catégorie']==0], 'Prix')\n",
    "\n",
    "# Indicateurs de 'Prix' pour la modalité 0 de 'Catégorie', dans le 3ème quartile d'âge\n",
    "print(\n",
    "    style.bold + style.green + '\\n\\nSous-échantillon : 3ème quartile de \\'Naissance\\'' + style.end,\n",
    "    style.underline + style.red + '\\nIndicateurs de \\'Prix\\' pour la catégorie 0\\n' + style.end\n",
    ")\n",
    "indicateurs(quartile_3[quartile_3['Catégorie']==0], 'Prix')\n",
    "\n",
    "# --> La fréquence du mode pour 'price' (4.5%) n'est pas significative, vu la taille de l'échantillon\n",
    "# --> On retient la médiane (9.99) comme prix"
   ]
  },
  {
   "cell_type": "code",
   "execution_count": 947,
   "metadata": {},
   "outputs": [
    {
     "name": "stdout",
     "output_type": "stream",
     "text": [
      "Prix médian de la catégorie 0, sur la population totale : 9.99\n"
     ]
    }
   ],
   "source": [
    "# Vérification de la médiane de prix de la catégorie 0, sur toute la population\n",
    "print(\n",
    "    'Prix médian de la catégorie 0, sur la population totale :',\n",
    "    data[data['Catégorie']==0]['Prix'].median()\n",
    ")\n",
    "\n",
    "# --> La médiane de prix correpond à celles des 2 quartiles étudiés"
   ]
  },
  {
   "cell_type": "markdown",
   "metadata": {},
   "source": [
    "### Remplacement des valeurs"
   ]
  },
  {
   "cell_type": "code",
   "execution_count": 948,
   "metadata": {},
   "outputs": [
    {
     "data": {
      "text/html": [
       "<div>\n",
       "<style scoped>\n",
       "    .dataframe tbody tr th:only-of-type {\n",
       "        vertical-align: middle;\n",
       "    }\n",
       "\n",
       "    .dataframe tbody tr th {\n",
       "        vertical-align: top;\n",
       "    }\n",
       "\n",
       "    .dataframe thead th {\n",
       "        text-align: right;\n",
       "    }\n",
       "</style>\n",
       "<table border=\"1\" class=\"dataframe\">\n",
       "  <thead>\n",
       "    <tr style=\"text-align: right;\">\n",
       "      <th></th>\n",
       "      <th>id_prod</th>\n",
       "      <th>Date</th>\n",
       "      <th>session_id</th>\n",
       "      <th>client_id</th>\n",
       "      <th>Sexe</th>\n",
       "      <th>Naissance</th>\n",
       "      <th>Prix</th>\n",
       "      <th>Catégorie</th>\n",
       "      <th>Tranche âge</th>\n",
       "    </tr>\n",
       "  </thead>\n",
       "  <tbody>\n",
       "    <tr>\n",
       "      <th>6235</th>\n",
       "      <td>0_2245</td>\n",
       "      <td>2021-06-17 03:03:12.668129</td>\n",
       "      <td>s_49705</td>\n",
       "      <td>c_1533</td>\n",
       "      <td>m</td>\n",
       "      <td>1972</td>\n",
       "      <td>9.99</td>\n",
       "      <td>0.0</td>\n",
       "      <td>B</td>\n",
       "    </tr>\n",
       "    <tr>\n",
       "      <th>10802</th>\n",
       "      <td>0_2245</td>\n",
       "      <td>2021-06-16 05:53:01.627491</td>\n",
       "      <td>s_49323</td>\n",
       "      <td>c_7954</td>\n",
       "      <td>m</td>\n",
       "      <td>1973</td>\n",
       "      <td>9.99</td>\n",
       "      <td>0.0</td>\n",
       "      <td>B</td>\n",
       "    </tr>\n",
       "    <tr>\n",
       "      <th>14051</th>\n",
       "      <td>0_2245</td>\n",
       "      <td>2021-11-24 17:35:59.911427</td>\n",
       "      <td>s_124474</td>\n",
       "      <td>c_5120</td>\n",
       "      <td>f</td>\n",
       "      <td>1975</td>\n",
       "      <td>9.99</td>\n",
       "      <td>0.0</td>\n",
       "      <td>B</td>\n",
       "    </tr>\n",
       "    <tr>\n",
       "      <th>17486</th>\n",
       "      <td>0_2245</td>\n",
       "      <td>2022-02-28 18:08:49.875709</td>\n",
       "      <td>s_172304</td>\n",
       "      <td>c_4964</td>\n",
       "      <td>f</td>\n",
       "      <td>1982</td>\n",
       "      <td>9.99</td>\n",
       "      <td>0.0</td>\n",
       "      <td>C</td>\n",
       "    </tr>\n",
       "    <tr>\n",
       "      <th>21078</th>\n",
       "      <td>0_2245</td>\n",
       "      <td>2021-03-01 00:09:29.301897</td>\n",
       "      <td>s_3</td>\n",
       "      <td>c_580</td>\n",
       "      <td>m</td>\n",
       "      <td>1988</td>\n",
       "      <td>9.99</td>\n",
       "      <td>0.0</td>\n",
       "      <td>D</td>\n",
       "    </tr>\n",
       "    <tr>\n",
       "      <th>...</th>\n",
       "      <td>...</td>\n",
       "      <td>...</td>\n",
       "      <td>...</td>\n",
       "      <td>...</td>\n",
       "      <td>...</td>\n",
       "      <td>...</td>\n",
       "      <td>...</td>\n",
       "      <td>...</td>\n",
       "      <td>...</td>\n",
       "    </tr>\n",
       "    <tr>\n",
       "      <th>322597</th>\n",
       "      <td>0_2245</td>\n",
       "      <td>2021-04-06 19:59:19.462288</td>\n",
       "      <td>s_16936</td>\n",
       "      <td>c_4167</td>\n",
       "      <td>f</td>\n",
       "      <td>1979</td>\n",
       "      <td>9.99</td>\n",
       "      <td>0.0</td>\n",
       "      <td>B</td>\n",
       "    </tr>\n",
       "    <tr>\n",
       "      <th>329300</th>\n",
       "      <td>0_2245</td>\n",
       "      <td>2021-03-30 23:29:02.347672</td>\n",
       "      <td>s_13738</td>\n",
       "      <td>c_7790</td>\n",
       "      <td>f</td>\n",
       "      <td>1983</td>\n",
       "      <td>9.99</td>\n",
       "      <td>0.0</td>\n",
       "      <td>C</td>\n",
       "    </tr>\n",
       "    <tr>\n",
       "      <th>330371</th>\n",
       "      <td>0_2245</td>\n",
       "      <td>2021-12-03 14:14:40.444177</td>\n",
       "      <td>s_128815</td>\n",
       "      <td>c_6189</td>\n",
       "      <td>f</td>\n",
       "      <td>1984</td>\n",
       "      <td>9.99</td>\n",
       "      <td>0.0</td>\n",
       "      <td>C</td>\n",
       "    </tr>\n",
       "    <tr>\n",
       "      <th>335405</th>\n",
       "      <td>0_2245</td>\n",
       "      <td>2021-04-27 18:58:47.703374</td>\n",
       "      <td>s_26624</td>\n",
       "      <td>c_1595</td>\n",
       "      <td>f</td>\n",
       "      <td>1973</td>\n",
       "      <td>9.99</td>\n",
       "      <td>0.0</td>\n",
       "      <td>B</td>\n",
       "    </tr>\n",
       "    <tr>\n",
       "      <th>336094</th>\n",
       "      <td>0_2245</td>\n",
       "      <td>2021-05-01 03:35:03.146305</td>\n",
       "      <td>s_28235</td>\n",
       "      <td>c_5714</td>\n",
       "      <td>f</td>\n",
       "      <td>1972</td>\n",
       "      <td>9.99</td>\n",
       "      <td>0.0</td>\n",
       "      <td>B</td>\n",
       "    </tr>\n",
       "  </tbody>\n",
       "</table>\n",
       "<p>103 rows × 9 columns</p>\n",
       "</div>"
      ],
      "text/plain": [
       "       id_prod                       Date session_id client_id Sexe  \\\n",
       "6235    0_2245 2021-06-17 03:03:12.668129    s_49705    c_1533    m   \n",
       "10802   0_2245 2021-06-16 05:53:01.627491    s_49323    c_7954    m   \n",
       "14051   0_2245 2021-11-24 17:35:59.911427   s_124474    c_5120    f   \n",
       "17486   0_2245 2022-02-28 18:08:49.875709   s_172304    c_4964    f   \n",
       "21078   0_2245 2021-03-01 00:09:29.301897        s_3     c_580    m   \n",
       "...        ...                        ...        ...       ...  ...   \n",
       "322597  0_2245 2021-04-06 19:59:19.462288    s_16936    c_4167    f   \n",
       "329300  0_2245 2021-03-30 23:29:02.347672    s_13738    c_7790    f   \n",
       "330371  0_2245 2021-12-03 14:14:40.444177   s_128815    c_6189    f   \n",
       "335405  0_2245 2021-04-27 18:58:47.703374    s_26624    c_1595    f   \n",
       "336094  0_2245 2021-05-01 03:35:03.146305    s_28235    c_5714    f   \n",
       "\n",
       "        Naissance  Prix  Catégorie Tranche âge  \n",
       "6235         1972  9.99        0.0           B  \n",
       "10802        1973  9.99        0.0           B  \n",
       "14051        1975  9.99        0.0           B  \n",
       "17486        1982  9.99        0.0           C  \n",
       "21078        1988  9.99        0.0           D  \n",
       "...           ...   ...        ...         ...  \n",
       "322597       1979  9.99        0.0           B  \n",
       "329300       1983  9.99        0.0           C  \n",
       "330371       1984  9.99        0.0           C  \n",
       "335405       1973  9.99        0.0           B  \n",
       "336094       1972  9.99        0.0           B  \n",
       "\n",
       "[103 rows x 9 columns]"
      ]
     },
     "execution_count": 948,
     "metadata": {},
     "output_type": "execute_result"
    }
   ],
   "source": [
    "# Remplacement des valeurs manquantes du produit 0_2245\n",
    "data['Catégorie'].replace(np.nan, 0, inplace=True)\n",
    "data['Prix'].replace(np.nan, 9.99, inplace=True)\n",
    "\n",
    "# Affichage du produit 0_2245\n",
    "data[data['id_prod']=='0_2245']"
   ]
  },
  {
   "cell_type": "markdown",
   "metadata": {},
   "source": [
    "## Valeurs manquantes : dates\n",
    "- Plusieurs semaines du mois d'octobre n'affichent aucun individu pour la catégorie 1\n",
    "- On met de côté les transactions du mois d'octobre (toutes catégories confondues), pour ne pas fausser les analyses"
   ]
  },
  {
   "cell_type": "code",
   "execution_count": 949,
   "metadata": {},
   "outputs": [
    {
     "data": {
      "image/png": "[encoded data removed]",
      "text/plain": [
       "<Figure size 360x360 with 1 Axes>"
      ]
     },
     "metadata": {},
     "output_type": "display_data"
    },
    {
     "data": {
      "image/png": "[encoded data removed]",
      "text/plain": [
       "<Figure size 411.5x360 with 1 Axes>"
      ]
     },
     "metadata": {},
     "output_type": "display_data"
    }
   ],
   "source": [
    "# Distribution des dates d'achats\n",
    "g = sns.displot(\n",
    "    data, \n",
    "    x=\"Date\",\n",
    "    binwidth=7, # (1 classe = 1 semaine)\n",
    "    element='step'\n",
    "    )\n",
    "g = (g.set_axis_labels(\n",
    "    'Date d\\'achat',\n",
    "    'Produits vendus'\n",
    "))\n",
    "plt.title('Distribution des dates d\\'achat')\n",
    "plt.show(g)\n",
    "\n",
    "# Distribution des dates d'achats, par catégorie\n",
    "g = sns.displot(\n",
    "    data, \n",
    "    x=\"Date\",\n",
    "    hue='Catégorie', \n",
    "    binwidth=7, # (1 classe = 1 semaine)\n",
    "    element='step'\n",
    "    )\n",
    "g = (g.set_axis_labels(\n",
    "    'Date d\\'achat',\n",
    "    'Produits vendus'\n",
    "))\n",
    "plt.title('Distribution des dates d\\'achat,\\npar catégorie')\n",
    "plt.show(g)\n",
    "\n",
    "# --> Il manque des dates au mois d'octobre pour la catégorie 1\n",
    "# --> On va éliminer les transactions des autres catégories pour le mois d'octobre"
   ]
  },
  {
   "cell_type": "code",
   "execution_count": 950,
   "metadata": {},
   "outputs": [
    {
     "name": "stdout",
     "output_type": "stream",
     "text": [
      "Nombre de lignes avant suppression : 336816\n",
      "Nombre de lignes après suppression : 315232 \n",
      " 6.4 % du dataset écarté\n"
     ]
    }
   ],
   "source": [
    "# Nombre de lignes avant suppression\n",
    "len_before = len(data)\n",
    "print('Nombre de lignes avant suppression :', len_before)\n",
    "\n",
    "# Suppression des valeurs du mois d'octobre, toutes catégories confondues\n",
    "data.drop(data[data['Date'].dt.month==10].index, inplace=True)\n",
    "\n",
    "# Nombre de lignes après suppression\n",
    "len_after = len(data)\n",
    "print(\n",
    "    'Nombre de lignes après suppression :', len_after, '\\n',\n",
    "    round(((len_before - len_after) / len_before * 100), 1),\n",
    "    '% du dataset écarté'\n",
    ")"
   ]
  },
  {
   "cell_type": "markdown",
   "metadata": {},
   "source": [
    "# Analyse : axe produits"
   ]
  },
  {
   "cell_type": "markdown",
   "metadata": {},
   "source": [
    "## Catégories\n",
    "- Les catégories correspondent à 3 gammes de prix ordonnées :\n",
    "    - Catégorie 0 : livres les moins chers (médiane à 10, écart-type de 7.5)\n",
    "    - Catégorie 1 : prix intermédiaires (moyenne et médiane vers 20, écart-type égal à celui de la catégorie 0)\n",
    "    - Catégorie 2 : prix supérieurs (indicateurs autour de 70, avec un écart-type de 40)\n",
    "- Le volume des transactions est de 60% pour la catégorie 0, et seulement 5% pour la catégorie 2\n",
    "- La proportion du stock pour chaque catégorie (**produits**) diffère de celle des transactions enregistrées pour chacune :\n",
    "    - Catégorie 0 : 70% du stock, 60% des ventes, 80% des références invendues\n",
    "    - Catégorie 1 : 23% du stock, 35% des ventes, 8% des invendus\n",
    "    - Catégorie 2 : 7% du stock, 5% des ventes, 12% des invendus\n",
    "- Proportionnellement au stock, la catégorie 1 rencontre le plus de succès, et affiche le moins d'invendus\n",
    "- Le prix médian de toutes les transactions est de 13.99 (correspond à l'écart-type supérieur de la cat. 0, et l'écart-type inférieur de la cat. 1) "
   ]
  },
  {
   "cell_type": "code",
   "execution_count": 951,
   "metadata": {},
   "outputs": [
    {
     "data": {
      "image/png": "[encoded data removed]",
      "text/plain": [
       "<Figure size 432x288 with 1 Axes>"
      ]
     },
     "metadata": {},
     "output_type": "display_data"
    }
   ],
   "source": [
    "# Régression linéaire\n",
    "g = sns.regplot(\n",
    "    data=data, \n",
    "    x=\"Catégorie\",\n",
    "    y='Prix',\n",
    "    x_estimator=np.median\n",
    "    )\n",
    "\n",
    "plt.show(g)\n",
    "\n",
    "# --> La catégorie est corrélée au prix"
   ]
  },
  {
   "cell_type": "code",
   "execution_count": 952,
   "metadata": {},
   "outputs": [
    {
     "data": {
      "image/png": "[encoded data removed]",
      "text/plain": [
       "<Figure size 432x288 with 1 Axes>"
      ]
     },
     "metadata": {},
     "output_type": "display_data"
    }
   ],
   "source": [
    "# Répétition du box plot de la partie Nettoyage\n",
    "f = sns.boxplot(\n",
    "    data=data, \n",
    "    x='Catégorie', \n",
    "    y='Prix',\n",
    "    showfliers=False \n",
    ")\n",
    "plt.title('Répartition des prix par catégorie')\n",
    "plt.show(f)"
   ]
  },
  {
   "cell_type": "code",
   "execution_count": 953,
   "metadata": {},
   "outputs": [
    {
     "data": {
      "image/png": "[encoded data removed]",
      "text/plain": [
       "<Figure size 432x288 with 1 Axes>"
      ]
     },
     "metadata": {},
     "output_type": "display_data"
    }
   ],
   "source": [
    "# Proportion des ventes par catégorie\n",
    "a = data['Catégorie'].value_counts(normalize=True).plot(\n",
    "    kind='pie',\n",
    "    legend=True,\n",
    "    autopct='%1.1f%%'\n",
    ")\n",
    "plt.title('Proportion des ventes par catégorie')\n",
    "plt.show(a)"
   ]
  },
  {
   "cell_type": "code",
   "execution_count": 954,
   "metadata": {},
   "outputs": [
    {
     "name": "stdout",
     "output_type": "stream",
     "text": [
      "\u001b[1mIndicateurs de position :\u001b[0m \n",
      "Mode(s) : [15.99] (fréquence : 3.2 %) \n",
      "Moyenne : 17.4 \n",
      "Médiane : 13.99 \n",
      "1er quartile : 9.0 \n",
      "3ème quartile : 19.0 \u001b[1m\n",
      "Indicateurs de dispersion :\u001b[0m \n",
      "Minimum : 0.62 \n",
      "Maximum : 300.0 \n",
      "Étendue : 299.4 \n",
      "Variance : 319.1 \n",
      "Écart-type :  17.9 \n",
      "Coeff. de variation : 1.0 \n",
      "Skewness : 5.5 ( distribution étalée à droite ) \n",
      "Kurtosis : 45.4 ( distribution moins aplatie que la normale gaussienne )\n"
     ]
    }
   ],
   "source": [
    "# Indicateurs de la variable 'Prix'\n",
    "indicateurs(data, 'Prix')\n",
    "\n",
    "# --> Prix médian de toutes les transactions : 13.99"
   ]
  },
  {
   "cell_type": "code",
   "execution_count": 955,
   "metadata": {},
   "outputs": [
    {
     "name": "stdout",
     "output_type": "stream",
     "text": [
      "\u001b[92mDataset :\u001b[1m data \u001b[0m \n",
      "\n",
      "\u001b[1m\u001b[94mModalité :\u001b[0m 0.0 (fréquence : 60.5 %)\n",
      "\n",
      "\u001b[1mIndicateurs de position :\u001b[0m \n",
      "Mode(s) : [4.99] (fréquence : 4.4 %) \n",
      "Moyenne : 10.6 \n",
      "Médiane : 9.99 \n",
      "1er quartile : 6.3 \n",
      "3ème quartile : 14.4 \u001b[1m\n",
      "Indicateurs de dispersion :\u001b[0m \n",
      "Minimum : 0.62 \n",
      "Maximum : 40.99 \n",
      "Étendue : 40.4 \n",
      "Variance : 24.3 \n",
      "Écart-type :  4.9 \n",
      "Coeff. de variation : 0.5 \n",
      "Skewness : 0.4 ( distribution étalée à droite ) \n",
      "Kurtosis : -0.4 ( distribution plus aplatie que la normale gaussienne )\n",
      "\n",
      "\n",
      "\u001b[1m\u001b[94mModalité :\u001b[0m 2.0 (fréquence : 5.2 %)\n",
      "\n",
      "\u001b[1mIndicateurs de position :\u001b[0m \n",
      "Mode(s) : [68.99] (fréquence : 6.2 %) \n",
      "Moyenne : 75.2 \n",
      "Médiane : 62.83 \n",
      "1er quartile : 54.0 \n",
      "3ème quartile : 71.2 \u001b[1m\n",
      "Indicateurs de dispersion :\u001b[0m \n",
      "Minimum : 30.99 \n",
      "Maximum : 300.0 \n",
      "Étendue : 269.0 \n",
      "Variance : 1536.2 \n",
      "Écart-type :  39.2 \n",
      "Coeff. de variation : 0.5 \n",
      "Skewness : 2.3 ( distribution étalée à droite ) \n",
      "Kurtosis : 5.5 ( distribution moins aplatie que la normale gaussienne )\n",
      "\n",
      "\n",
      "\u001b[1m\u001b[94mModalité :\u001b[0m 1.0 (fréquence : 34.3 %)\n",
      "\n",
      "\u001b[1mIndicateurs de position :\u001b[0m \n",
      "Mode(s) : [15.99] (fréquence : 4.4 %) \n",
      "Moyenne : 20.5 \n",
      "Médiane : 19.08 \n",
      "1er quartile : 15.8 \n",
      "3ème quartile : 25.0 \u001b[1m\n",
      "Indicateurs de dispersion :\u001b[0m \n",
      "Minimum : 2.0 \n",
      "Maximum : 80.99 \n",
      "Étendue : 79.0 \n",
      "Variance : 57.4 \n",
      "Écart-type :  7.6 \n",
      "Coeff. de variation : 0.4 \n",
      "Skewness : 1.7 ( distribution étalée à droite ) \n",
      "Kurtosis : 8.2 ( distribution moins aplatie que la normale gaussienne )\n",
      "\n",
      "\n"
     ]
    }
   ],
   "source": [
    "# Dataset principal\n",
    "# Indicateurs de la variable 'Prix', par catégorie\n",
    "print(style.green + 'Dataset :' + style.bold, 'data', style.end, '\\n')\n",
    "indicateurs_bivaries(data, 'Catégorie', 'Prix')"
   ]
  },
  {
   "cell_type": "code",
   "execution_count": 956,
   "metadata": {},
   "outputs": [
    {
     "name": "stdout",
     "output_type": "stream",
     "text": [
      "\u001b[92mDataset :\u001b[1m produits \u001b[0m \n",
      "\n",
      "\u001b[1m\u001b[94mModalité :\u001b[0m 0 (fréquence : 70.2 %)\n",
      "\n",
      "\u001b[1mIndicateurs de position :\u001b[0m \n",
      "Mode(s) : [4.99] (fréquence : 3.5 %) \n",
      "Moyenne : 11.7 \n",
      "Médiane : 10.32 \n",
      "1er quartile : 5.6 \n",
      "3ème quartile : 16.6 \u001b[1m\n",
      "Indicateurs de dispersion :\u001b[0m \n",
      "Minimum : -1.0 \n",
      "Maximum : 40.99 \n",
      "Étendue : 42.0 \n",
      "Variance : 57.3 \n",
      "Écart-type :  7.6 \n",
      "Coeff. de variation : 0.6 \n",
      "Skewness : 0.8 ( distribution étalée à droite ) \n",
      "Kurtosis : 0.3 ( distribution moins aplatie que la normale gaussienne )\n",
      "\n",
      "\n",
      "\u001b[1m\u001b[94mModalité :\u001b[0m 1 (fréquence : 22.5 %)\n",
      "\n",
      "\u001b[1mIndicateurs de position :\u001b[0m \n",
      "Mode(s) : [22.99, 32.99] (fréquence : 2.2 %) \n",
      "Moyenne : 25.5 \n",
      "Médiane : 22.99 \n",
      "1er quartile : 13.4 \n",
      "3ème quartile : 34.0 \u001b[1m\n",
      "Indicateurs de dispersion :\u001b[0m \n",
      "Minimum : 2.0 \n",
      "Maximum : 80.99 \n",
      "Étendue : 79.0 \n",
      "Variance : 237.6 \n",
      "Écart-type :  15.4 \n",
      "Coeff. de variation : 0.6 \n",
      "Skewness : 0.8 ( distribution étalée à droite ) \n",
      "Kurtosis : 0.3 ( distribution moins aplatie que la normale gaussienne )\n",
      "\n",
      "\n",
      "\u001b[1m\u001b[94mModalité :\u001b[0m 2 (fréquence : 7.3 %)\n",
      "\n",
      "\u001b[1mIndicateurs de position :\u001b[0m \n",
      "Mode(s) : [50.99, 68.99, 69.99] (fréquence : 1.7 %) \n",
      "Moyenne : 108.4 \n",
      "Médiane : 101.99 \n",
      "1er quartile : 71.1 \n",
      "3ème quartile : 136.5 \u001b[1m\n",
      "Indicateurs de dispersion :\u001b[0m \n",
      "Minimum : 30.99 \n",
      "Maximum : 300.0 \n",
      "Étendue : 269.0 \n",
      "Variance : 2446.1 \n",
      "Écart-type :  49.5 \n",
      "Coeff. de variation : 0.5 \n",
      "Skewness : 0.9 ( distribution étalée à droite ) \n",
      "Kurtosis : 0.8 ( distribution moins aplatie que la normale gaussienne )\n",
      "\n",
      "\n"
     ]
    }
   ],
   "source": [
    "# Dataset produits (analyse du stock)\n",
    "# Indicateurs de la variable 'Prix', par catégorie\n",
    "print(style.green + 'Dataset :' + style.bold, 'produits', style.end, '\\n')\n",
    "indicateurs_bivaries(produits, 'Catégorie', 'Prix')"
   ]
  },
  {
   "cell_type": "code",
   "execution_count": 957,
   "metadata": {},
   "outputs": [
    {
     "data": {
      "image/png": "[encoded data removed]",
      "text/plain": [
       "<Figure size 432x288 with 1 Axes>"
      ]
     },
     "metadata": {},
     "output_type": "display_data"
    }
   ],
   "source": [
    "# Liste des produits invendus\n",
    "invendus = produits[~produits['id_prod'].isin(data['id_prod'])]\n",
    "\n",
    "# Proportion des catégories pour les invendus\n",
    "a = invendus['Catégorie'].value_counts(normalize=True).plot(\n",
    "    kind='pie',\n",
    "    legend=True,\n",
    "    autopct='%1.1f%%'\n",
    ")\n",
    "plt.title('Proportion des invendus, par catégorie')\n",
    "plt.show(a)"
   ]
  },
  {
   "cell_type": "markdown",
   "metadata": {},
   "source": [
    "## Dates d'achat"
   ]
  },
  {
   "cell_type": "code",
   "execution_count": 958,
   "metadata": {},
   "outputs": [
    {
     "data": {
      "image/png": "[encoded data removed]",
      "text/plain": [
       "<Figure size 411.5x360 with 1 Axes>"
      ]
     },
     "metadata": {},
     "output_type": "display_data"
    }
   ],
   "source": [
    "# Répartition des ventes par date et catégorie\n",
    "g = sns.displot(data, x='Date', hue='Catégorie', binwidth=7, element='step')\n",
    "g.set(ylabel='Transactions')\n",
    "plt.title('Répartition des ventes par semaine')\n",
    "plt.show(g)\n",
    "\n",
    "# --> Catégorie 0 : pics aux mois mars, mai, septembre et décembre\n",
    "# --> Catégorie 0 : pic du mois de septembre largement supérieur aux autres\n",
    "# --> Catégorie 1 : pics modérés autour de l'été et des fêtes de fin d'année\n",
    "# --> Catégorie 2 : chute des ventes après le mois de septembre"
   ]
  },
  {
   "cell_type": "code",
   "execution_count": 959,
   "metadata": {},
   "outputs": [
    {
     "data": {
      "image/png": "[encoded data removed]",
      "text/plain": [
       "<Figure size 360x360 with 1 Axes>"
      ]
     },
     "metadata": {},
     "output_type": "display_data"
    }
   ],
   "source": [
    "# Répartition des ventes de la catégorie 2, par date\n",
    "g = sns.displot(\n",
    "    data[data['Catégorie']==2], \n",
    "    x='Date', \n",
    "    binwidth=7, \n",
    "    element='step'\n",
    ")\n",
    "g.set(ylabel='Ventes')\n",
    "plt.title('Répartition des ventes de la catégorie 2')\n",
    "plt.show(g)"
   ]
  },
  {
   "cell_type": "code",
   "execution_count": null,
   "metadata": {},
   "outputs": [],
   "source": []
  },
  {
   "cell_type": "code",
   "execution_count": null,
   "metadata": {},
   "outputs": [],
   "source": []
  },
  {
   "cell_type": "code",
   "execution_count": null,
   "metadata": {},
   "outputs": [],
   "source": []
  },
  {
   "cell_type": "code",
   "execution_count": null,
   "metadata": {},
   "outputs": [],
   "source": []
  },
  {
   "cell_type": "markdown",
   "metadata": {},
   "source": [
    "# Analyse : axe clients"
   ]
  },
  {
   "cell_type": "markdown",
   "metadata": {},
   "source": [
    "## Distinction entre particuliers et professionnels\n",
    "- 4 clients (sur 8500) agrégent à eux seuls 7% du chiffre d'affaires et des transactions\n",
    "- Pour l'analyse, on dissocie la population en 2 groupes : ces 4 clients a priori professionnels, et les particuliers"
   ]
  },
  {
   "cell_type": "code",
   "execution_count": 960,
   "metadata": {},
   "outputs": [
    {
     "data": {
      "text/html": [
       "<div>\n",
       "<style scoped>\n",
       "    .dataframe tbody tr th:only-of-type {\n",
       "        vertical-align: middle;\n",
       "    }\n",
       "\n",
       "    .dataframe tbody tr th {\n",
       "        vertical-align: top;\n",
       "    }\n",
       "\n",
       "    .dataframe thead th {\n",
       "        text-align: right;\n",
       "    }\n",
       "</style>\n",
       "<table border=\"1\" class=\"dataframe\">\n",
       "  <thead>\n",
       "    <tr style=\"text-align: right;\">\n",
       "      <th></th>\n",
       "      <th>client_id</th>\n",
       "      <th>Prix</th>\n",
       "    </tr>\n",
       "  </thead>\n",
       "  <tbody>\n",
       "    <tr>\n",
       "      <th>0</th>\n",
       "      <td>c_1609</td>\n",
       "      <td>150729.07</td>\n",
       "    </tr>\n",
       "    <tr>\n",
       "      <th>1</th>\n",
       "      <td>c_4958</td>\n",
       "      <td>137151.48</td>\n",
       "    </tr>\n",
       "    <tr>\n",
       "      <th>2</th>\n",
       "      <td>c_6714</td>\n",
       "      <td>69402.15</td>\n",
       "    </tr>\n",
       "    <tr>\n",
       "      <th>3</th>\n",
       "      <td>c_3454</td>\n",
       "      <td>52740.66</td>\n",
       "    </tr>\n",
       "    <tr>\n",
       "      <th>4</th>\n",
       "      <td>c_8026</td>\n",
       "      <td>2434.49</td>\n",
       "    </tr>\n",
       "    <tr>\n",
       "      <th>...</th>\n",
       "      <td>...</td>\n",
       "      <td>...</td>\n",
       "    </tr>\n",
       "    <tr>\n",
       "      <th>8593</th>\n",
       "      <td>c_8032</td>\n",
       "      <td>8.82</td>\n",
       "    </tr>\n",
       "    <tr>\n",
       "      <th>8594</th>\n",
       "      <td>c_890</td>\n",
       "      <td>6.08</td>\n",
       "    </tr>\n",
       "    <tr>\n",
       "      <th>8595</th>\n",
       "      <td>c_1675</td>\n",
       "      <td>5.57</td>\n",
       "    </tr>\n",
       "    <tr>\n",
       "      <th>8596</th>\n",
       "      <td>c_8114</td>\n",
       "      <td>4.99</td>\n",
       "    </tr>\n",
       "    <tr>\n",
       "      <th>8597</th>\n",
       "      <td>c_8140</td>\n",
       "      <td>4.15</td>\n",
       "    </tr>\n",
       "  </tbody>\n",
       "</table>\n",
       "<p>8598 rows × 2 columns</p>\n",
       "</div>"
      ],
      "text/plain": [
       "     client_id       Prix\n",
       "0       c_1609  150729.07\n",
       "1       c_4958  137151.48\n",
       "2       c_6714   69402.15\n",
       "3       c_3454   52740.66\n",
       "4       c_8026    2434.49\n",
       "...        ...        ...\n",
       "8593    c_8032       8.82\n",
       "8594     c_890       6.08\n",
       "8595    c_1675       5.57\n",
       "8596    c_8114       4.99\n",
       "8597    c_8140       4.15\n",
       "\n",
       "[8598 rows x 2 columns]"
      ]
     },
     "execution_count": 960,
     "metadata": {},
     "output_type": "execute_result"
    }
   ],
   "source": [
    "# Agrégation des dépenses par client\n",
    "depenses_par_clients = data.pivot_table(\n",
    "    index='client_id', \n",
    "    values='Prix', \n",
    "    aggfunc='sum'\n",
    "    ).sort_values(by='Prix', ascending=False).reset_index()\n",
    "    \n",
    "depenses_par_clients\n",
    "\n",
    "# --> Les 4 premiers clients se démarquent nettement"
   ]
  },
  {
   "cell_type": "code",
   "execution_count": 961,
   "metadata": {},
   "outputs": [
    {
     "name": "stdout",
     "output_type": "stream",
     "text": [
      "\u001b[1mProportions des échantillons :\u001b[0m \n",
      "Professionnels : 6.9 % des transactions\n",
      "Particuliers : 93.1 % des transactions\n"
     ]
    }
   ],
   "source": [
    "# Échantillon ne contenant que les 4 gros clients\n",
    "professionnels = data[data['client_id'].isin(\n",
    "    depenses_par_clients.loc[0:3]['client_id'])]\n",
    "\n",
    "# Échantillon excluant les 4 gros clients\n",
    "particuliers = data.drop(professionnels.index)\n",
    "\n",
    "# Proportion des transactions entre type de clients\n",
    "print(\n",
    "    style.bold + 'Proportions des échantillons :' + style.end, '\\n'\n",
    "    'Professionnels :',\n",
    "    round((len(professionnels) / len(data) * 100), 1), '% des transactions\\n'\n",
    "    'Particuliers :',\n",
    "    round((len(particuliers) / len(data) * 100), 1), '% des transactions'\n",
    ")"
   ]
  },
  {
   "cell_type": "code",
   "execution_count": 962,
   "metadata": {},
   "outputs": [
    {
     "name": "stdout",
     "output_type": "stream",
     "text": [
      "Les 4 clients professionnels représentent 7.5 % du CA total\n"
     ]
    }
   ],
   "source": [
    "# Chiffre d'affaires des 4 gros clients\n",
    "ca_professionnels = professionnels['Prix'].sum()\n",
    "\n",
    "# Chiffre d'affaires total\n",
    "ca_total = data['Prix'].sum()\n",
    "\n",
    "print(\n",
    "    'Les 4 clients professionnels représentent',\n",
    "    round((ca_professionnels / ca_total * 100), 1),\n",
    "    '% du CA total'\n",
    ")\n",
    "\n",
    "# --> Les 4 clients représentent une part significative du CA\n",
    "# --> Pour être juste, l'analyse doit être scindée en 2 échantillons de clients\n",
    "# --> Les variables 'Sexe' et 'Naissance' ne seront pas analysées chez les professionnels"
   ]
  },
  {
   "cell_type": "markdown",
   "metadata": {},
   "source": [
    "## Clients professionnels"
   ]
  },
  {
   "cell_type": "code",
   "execution_count": 963,
   "metadata": {},
   "outputs": [
    {
     "name": "stdout",
     "output_type": "stream",
     "text": [
      "\u001b[1m\u001b[94mModalité :\u001b[0m 0.0 (fréquence : 59.7 %)\n",
      "\n",
      "\u001b[1mIndicateurs de position :\u001b[0m \n",
      "Mode(s) : [4.99] (fréquence : 4.3 %) \n",
      "Moyenne : 10.7 \n",
      "Médiane : 9.99 \n",
      "1er quartile : 6.3 \n",
      "3ème quartile : 14.4 \u001b[1m\n",
      "Indicateurs de dispersion :\u001b[0m \n",
      "Minimum : 0.62 \n",
      "Maximum : 39.99 \n",
      "Étendue : 39.4 \n",
      "Variance : 24.4 \n",
      "Écart-type :  4.9 \n",
      "Coeff. de variation : 0.5 \n",
      "Skewness : 0.4 ( distribution étalée à droite ) \n",
      "Kurtosis : -0.4 ( distribution plus aplatie que la normale gaussienne )\n",
      "\n",
      "\n",
      "\u001b[1m\u001b[94mModalité :\u001b[0m 1.0 (fréquence : 32.4 %)\n",
      "\n",
      "\u001b[1mIndicateurs de position :\u001b[0m \n",
      "Mode(s) : [15.99] (fréquence : 4.4 %) \n",
      "Moyenne : 20.5 \n",
      "Médiane : 19.44 \n",
      "1er quartile : 15.8 \n",
      "3ème quartile : 25.0 \u001b[1m\n",
      "Indicateurs de dispersion :\u001b[0m \n",
      "Minimum : 2.0 \n",
      "Maximum : 80.99 \n",
      "Étendue : 79.0 \n",
      "Variance : 56.9 \n",
      "Écart-type :  7.5 \n",
      "Coeff. de variation : 0.4 \n",
      "Skewness : 1.9 ( distribution étalée à droite ) \n",
      "Kurtosis : 9.8 ( distribution moins aplatie que la normale gaussienne )\n",
      "\n",
      "\n",
      "\u001b[1m\u001b[94mModalité :\u001b[0m 2.0 (fréquence : 7.8 %)\n",
      "\n",
      "\u001b[1mIndicateurs de position :\u001b[0m \n",
      "Mode(s) : [68.99] (fréquence : 6.5 %) \n",
      "Moyenne : 75.8 \n",
      "Médiane : 63.095 \n",
      "1er quartile : 54.0 \n",
      "3ème quartile : 78.0 \u001b[1m\n",
      "Indicateurs de dispersion :\u001b[0m \n",
      "Minimum : 30.99 \n",
      "Maximum : 300.0 \n",
      "Étendue : 269.0 \n",
      "Variance : 1512.7 \n",
      "Écart-type :  38.9 \n",
      "Coeff. de variation : 0.5 \n",
      "Skewness : 2.3 ( distribution étalée à droite ) \n",
      "Kurtosis : 6.1 ( distribution moins aplatie que la normale gaussienne )\n",
      "\n",
      "\n"
     ]
    }
   ],
   "source": [
    "# Indicateurs bivariés sur 'Catégorie' et 'Prix'\n",
    "indicateurs_bivaries(professionnels, 'Catégorie', 'Prix')\n",
    "\n",
    "# --> Les professionnels achètent le plus fréquemment la catégorie 0"
   ]
  },
  {
   "cell_type": "code",
   "execution_count": 964,
   "metadata": {},
   "outputs": [
    {
     "data": {
      "image/png": "[encoded data removed]",
      "text/plain": [
       "<Figure size 432x288 with 1 Axes>"
      ]
     },
     "metadata": {},
     "output_type": "display_data"
    }
   ],
   "source": [
    "# Distribution des prix d'achat, par client\n",
    "g = sns.boxplot(\n",
    "    x='client_id',\n",
    "    y='Prix',\n",
    "    hue='Catégorie',\n",
    "    data=professionnels,\n",
    "    showfliers=False\n",
    ")\n",
    "plt.title('Clients professionnels :\\ndistribution des prix d\\'achat')\n",
    "plt.show(g)\n",
    "\n",
    "# --> Les 3 plus gros clients achètent en parts égales dans la catégorie 0\n",
    "# --> Les 4 clients achètent en parts quasi-égales dans la catégorie 1\n",
    "# --> Le 4ème client n'achète pas du tout dans la catégorie 0\n",
    "# --> Le 4ème client consomme majoritairement la catégorie 2\n",
    "# --> Le plus gros client n'achète quasiment rien dans la catégorie 2"
   ]
  },
  {
   "cell_type": "code",
   "execution_count": 965,
   "metadata": {},
   "outputs": [
    {
     "data": {
      "image/png": "[encoded data removed]",
      "text/plain": [
       "<Figure size 429.125x360 with 1 Axes>"
      ]
     },
     "metadata": {},
     "output_type": "display_data"
    }
   ],
   "source": [
    "# Nombre de ventes, par date d'achat et client\n",
    "g = sns.displot(\n",
    "    professionnels, \n",
    "    x=\"Date\",\n",
    "    hue='client_id', \n",
    "    bins=54, # (1 classe = 1 semaine)\n",
    "    element='step'\n",
    "    )\n",
    "g = (g.set_axis_labels(\n",
    "    'Date d\\'achat',\n",
    "    'Ventes'\n",
    "))\n",
    "plt.title('Client professionnels :\\nvolume des ventes par date d\\'achat')\n",
    "plt.show(g)\n",
    "\n",
    "# --> Le plus gros client a un pic d'achat au mois de septembre\n",
    "# --> Et un 2ème pic moins haut au mois de décembre"
   ]
  },
  {
   "cell_type": "code",
   "execution_count": 966,
   "metadata": {},
   "outputs": [
    {
     "data": {
      "image/png": "[encoded data removed]",
      "text/plain": [
       "<Figure size 411.5x360 with 1 Axes>"
      ]
     },
     "metadata": {},
     "output_type": "display_data"
    }
   ],
   "source": [
    "# Nombre de ventes, par date d'achat et catégorie\n",
    "g = sns.displot(\n",
    "    professionnels, \n",
    "    x=\"Date\",\n",
    "    hue='Catégorie', \n",
    "    bins=54, # (1 classe = 1 semaine)\n",
    "    element='step'\n",
    "    )\n",
    "g = (g.set_axis_labels(\n",
    "    'Date d\\'achat',\n",
    "    'Ventes'\n",
    "))\n",
    "plt.title('Client professionnels :\\nvolume des ventes par date d\\'achat et catégorie')\n",
    "plt.show(g)\n",
    "\n",
    "# --> Catégorie 0 : pic d'achat au mois de septembre, correspondant au plus gros client\n",
    "# --> Catégorie 1 : pic d'achat autour des fêtes de fin d'année"
   ]
  },
  {
   "cell_type": "code",
   "execution_count": null,
   "metadata": {},
   "outputs": [],
   "source": []
  },
  {
   "cell_type": "code",
   "execution_count": null,
   "metadata": {},
   "outputs": [],
   "source": []
  },
  {
   "cell_type": "code",
   "execution_count": null,
   "metadata": {},
   "outputs": [],
   "source": []
  },
  {
   "cell_type": "markdown",
   "metadata": {},
   "source": [
    "## Clients particuliers"
   ]
  },
  {
   "cell_type": "markdown",
   "metadata": {},
   "source": [
    "### Par sexe\n",
    "- les femmes achètent très légèrement plus que les hommes\n",
    "- les proportions de vente sont les mêmes pour chaque catégorie, avec les mêmes indicateurs de prix\n",
    "- les 2 groupes achètent autant à chaque moment de l'année\n",
    "- les années de naissance se répartissent de la même manière chez les hommes et chez les femmes\n",
    "- Le sexe n'indique aucune typologie de clients particulière "
   ]
  },
  {
   "cell_type": "code",
   "execution_count": 967,
   "metadata": {},
   "outputs": [
    {
     "data": {
      "image/png": "[encoded data removed]",
      "text/plain": [
       "<Figure size 411.5x360 with 1 Axes>"
      ]
     },
     "metadata": {},
     "output_type": "display_data"
    }
   ],
   "source": [
    "# Ventes et catégories, par sexe\n",
    "g = sns.displot(particuliers, x=\"Sexe\", hue='Catégorie', shrink=.8)\n",
    "g.set(ylabel='Transactions')\n",
    "plt.title('Répartition des ventes par sexe et catégorie')\n",
    "plt.show(g)\n",
    "\n",
    "# --> Les 2 sexes ont le même volume d'achats\n",
    "# --> Les 2 sexes achètent autant dans chaque catégorie"
   ]
  },
  {
   "cell_type": "code",
   "execution_count": 968,
   "metadata": {},
   "outputs": [
    {
     "data": {
      "image/png": "[encoded data removed]",
      "text/plain": [
       "<Figure size 432x288 with 1 Axes>"
      ]
     },
     "metadata": {},
     "output_type": "display_data"
    }
   ],
   "source": [
    "# Répartition des prix d'achat, par sexe\n",
    "g = sns.boxplot(\n",
    "    data=particuliers, \n",
    "    x=\"Sexe\", \n",
    "    y='Prix', \n",
    "    hue='Catégorie',\n",
    "    showfliers=False\n",
    ")\n",
    "\n",
    "plt.title('Répartition des prix par sexe et catégorie')\n",
    "plt.show(g)"
   ]
  },
  {
   "cell_type": "code",
   "execution_count": 969,
   "metadata": {},
   "outputs": [
    {
     "data": {
      "image/png": "[encoded data removed]",
      "text/plain": [
       "<Figure size 404.375x360 with 1 Axes>"
      ]
     },
     "metadata": {},
     "output_type": "display_data"
    }
   ],
   "source": [
    "# Sexe / Date d'achat\n",
    "g = sns.displot(\n",
    "    data=particuliers, \n",
    "    x=\"Date\", \n",
    "    hue='Sexe', \n",
    "    bins=54, # (1 classe = 1 semaine)\n",
    "    element='step'\n",
    "    )\n",
    "g = (g.set_axis_labels(\n",
    "    'Date d\\'achat',\n",
    "    'Ventes'\n",
    "))\n",
    "plt.show(g)\n",
    "\n",
    "# Les histogrammes des 2 sexes ont les mêmes formes\n",
    "# Les 2 groupes achètent autant aux mêmes périodes de l'année"
   ]
  },
  {
   "cell_type": "code",
   "execution_count": 970,
   "metadata": {},
   "outputs": [
    {
     "data": {
      "image/png": "[encoded data removed]",
      "text/plain": [
       "<Figure size 432x288 with 1 Axes>"
      ]
     },
     "metadata": {},
     "output_type": "display_data"
    }
   ],
   "source": [
    "# Répartition des ventes, par âge et par sexe\n",
    "g = sns.boxplot(\n",
    "    data=particuliers, \n",
    "    x=\"Sexe\", \n",
    "    y='Naissance',\n",
    "    hue='Catégorie'\n",
    "    # showfliers=False\n",
    ")\n",
    "\n",
    "plt.title('Répartition des ventes, par sexe, âge et catégorie')\n",
    "plt.show(g)\n",
    "\n",
    "# --> Les années se répartissent de la même façon pour les 2 sexes"
   ]
  },
  {
   "cell_type": "markdown",
   "metadata": {},
   "source": [
    "### Par âge\n",
    "- La catégorie 1 n'est pas corrélée à l'âge\n",
    "- Les 2 autres catégories ont un lien avec l'âge\n",
    "    - L'âge des clients de la catégorie 2 se démarque nettement (nés aux environs de 2000)\n",
    "- L'âge n'est pas corrélé à la date d'achat"
   ]
  },
  {
   "cell_type": "code",
   "execution_count": 971,
   "metadata": {},
   "outputs": [
    {
     "data": {
      "image/png": "[encoded data removed]",
      "text/plain": [
       "<Figure size 411.5x360 with 1 Axes>"
      ]
     },
     "metadata": {},
     "output_type": "display_data"
    }
   ],
   "source": [
    "# Régression linéaire entre 'Naissance' et 'Prix'\n",
    "g = sns.lmplot(\n",
    "    data=particuliers, \n",
    "    x=\"Naissance\",\n",
    "    y='Prix',\n",
    "    hue='Catégorie',\n",
    "    x_estimator=np.median\n",
    "    )\n",
    "\n",
    "plt.show(g)\n",
    "\n",
    "# --> Il y a a priori une corrélation entre l'âge et le prix d'achat médian"
   ]
  },
  {
   "cell_type": "code",
   "execution_count": 972,
   "metadata": {},
   "outputs": [
    {
     "name": "stdout",
     "output_type": "stream",
     "text": [
      "\u001b[1m\u001b[94mModalité :\u001b[0m 0.0 (fréquence : 60.6 %)\n",
      "\n",
      "\u001b[1mIndicateurs de position :\u001b[0m \n",
      "Mode(s) : [1988] (fréquence : 4.9 %) \n",
      "Moyenne : 1978.2 \n",
      "Médiane : 1980.0 \n",
      "1er quartile : 1974.0 \n",
      "3ème quartile : 1986.0 \u001b[1m\n",
      "Indicateurs de dispersion :\u001b[0m \n",
      "Minimum : 1929 \n",
      "Maximum : 2004 \n",
      "Étendue : 75 \n",
      "Variance : 132.6 \n",
      "Écart-type :  11.5 \n",
      "Coeff. de variation : 0.0 \n",
      "Skewness : -1.0 ( distribution étalée à gauche ) \n",
      "Kurtosis : 1.6 ( distribution moins aplatie que la normale gaussienne )\n",
      "\n",
      "\n",
      "\u001b[1m\u001b[94mModalité :\u001b[0m 2.0 (fréquence : 5.0 %)\n",
      "\n",
      "\u001b[1mIndicateurs de position :\u001b[0m \n",
      "Mode(s) : [2004] (fréquence : 18.5 %) \n",
      "Moyenne : 1996.3 \n",
      "Médiane : 1998.0 \n",
      "1er quartile : 1994.0 \n",
      "3ème quartile : 2002.0 \u001b[1m\n",
      "Indicateurs de dispersion :\u001b[0m \n",
      "Minimum : 1930 \n",
      "Maximum : 2004 \n",
      "Étendue : 74 \n",
      "Variance : 92.6 \n",
      "Écart-type :  9.6 \n",
      "Coeff. de variation : 0.0 \n",
      "Skewness : -3.0 ( distribution étalée à gauche ) \n",
      "Kurtosis : 11.1 ( distribution moins aplatie que la normale gaussienne )\n",
      "\n",
      "\n",
      "\u001b[1m\u001b[94mModalité :\u001b[0m 1.0 (fréquence : 34.4 %)\n",
      "\n",
      "\u001b[1mIndicateurs de position :\u001b[0m \n",
      "Mode(s) : [1979] (fréquence : 2.8 %) \n",
      "Moyenne : 1974.2 \n",
      "Médiane : 1975.0 \n",
      "1er quartile : 1963.0 \n",
      "3ème quartile : 1986.0 \u001b[1m\n",
      "Indicateurs de dispersion :\u001b[0m \n",
      "Minimum : 1929 \n",
      "Maximum : 2004 \n",
      "Étendue : 75 \n",
      "Variance : 249.7 \n",
      "Écart-type :  15.8 \n",
      "Coeff. de variation : 0.0 \n",
      "Skewness : -0.2 ( distribution étalée à gauche ) \n",
      "Kurtosis : -0.5 ( distribution plus aplatie que la normale gaussienne )\n",
      "\n",
      "\n"
     ]
    }
   ],
   "source": [
    "# Indicateurs de la variable 'Naissance', par catégorie\n",
    "indicateurs_bivaries(particuliers, 'Catégorie', 'Naissance')\n",
    "\n",
    "# --> Cat. 0 : médiane et moyenne autour de 1980\n",
    "# --> Cat. 1 : clients légèrement plus âgés que la cat.0 (d'environ 5 ans)\n",
    "# --> Cat. 2 :\n",
    "# -->     Fréquence du mode (2004) importante (18%)\n",
    "# -->     Indicateurs autour de l'année 2000\n",
    "# -->     Kurtosis de la catégorie est lui aussi très marqué\n",
    "\n",
    "# --> Écarts-types de 10 ans pour les catégories 0 et 2, 15 ans pour la cat. 1\n",
    "# -->     Individus à tendance plus âgée pour la cat. 1\n",
    "# -->     L'âge des individus de la cat. 2 se détache des autres "
   ]
  },
  {
   "cell_type": "code",
   "execution_count": 973,
   "metadata": {},
   "outputs": [
    {
     "data": {
      "image/png": "[encoded data removed]",
      "text/plain": [
       "<Figure size 423.875x360 with 1 Axes>"
      ]
     },
     "metadata": {},
     "output_type": "display_data"
    }
   ],
   "source": [
    "g = sns.displot(\n",
    "    data=particuliers, \n",
    "    x='Date', \n",
    "    hue='Tranche âge', \n",
    "    kind='kde', \n",
    "    multiple='stack')\n",
    "g.set(ylabel='Ventes')\n",
    "plt.title('Répartition des ventes par date et tranche d\\'âge')\n",
    "plt.show(g)\n",
    "\n",
    "# --> Les 4 quartiles d'âge achètent autant à chaque moment de l'année"
   ]
  },
  {
   "cell_type": "code",
   "execution_count": 974,
   "metadata": {},
   "outputs": [
    {
     "data": {
      "image/png": "[encoded data removed]",
      "text/plain": [
       "<Figure size 411.5x360 with 1 Axes>"
      ]
     },
     "metadata": {},
     "output_type": "display_data"
    }
   ],
   "source": [
    "g = sns.displot(\n",
    "    data=particuliers, \n",
    "    x='Naissance', \n",
    "    hue='Catégorie', \n",
    "    kind='kde', \n",
    "    multiple='stack'\n",
    ")\n",
    "g.set(ylabel='Ventes')\n",
    "plt.title('Répartition des ventes par année de naissance et catégorie')\n",
    "plt.show(g)\n",
    "\n",
    "# --> Les catégories 0 et 1 ont les mêmes formes d'histogramme\n",
    "# --> Excepté un pic autour de 1980 pour la catégorie 0\n",
    "# --> La catégorie 2 est majoritairement achetée par des clients nés après 1990"
   ]
  },
  {
   "cell_type": "code",
   "execution_count": 975,
   "metadata": {},
   "outputs": [
    {
     "data": {
      "image/png": "[encoded data removed]",
      "text/plain": [
       "<Figure size 432x288 with 1 Axes>"
      ]
     },
     "metadata": {},
     "output_type": "display_data"
    }
   ],
   "source": [
    "# Corrélation entre 'Catégorie' et 'Naissance'\n",
    "e = sns.boxplot(data=particuliers, x='Catégorie', y='Naissance', hue='Tranche âge')\n",
    "e.set(xlabel='Catégorie', ylabel='Année de naissance')\n",
    "plt.title('Répartition des âges par catégorie de produits')\n",
    "plt.show(e)\n",
    "\n",
    "# --> Certaines années de naissance sont plus corrélées que d'autres à certaines catégories\n",
    "# --> Les individus entre Q1 et Q2 sont plus susceptibles d'acheter les catégories 0, voire 1"
   ]
  },
  {
   "cell_type": "code",
   "execution_count": null,
   "metadata": {},
   "outputs": [],
   "source": []
  },
  {
   "cell_type": "code",
   "execution_count": null,
   "metadata": {},
   "outputs": [],
   "source": []
  },
  {
   "cell_type": "code",
   "execution_count": null,
   "metadata": {},
   "outputs": [],
   "source": []
  },
  {
   "cell_type": "code",
   "execution_count": null,
   "metadata": {},
   "outputs": [],
   "source": []
  },
  {
   "cell_type": "markdown",
   "metadata": {},
   "source": [
    "# Conclusions\n"
   ]
  },
  {
   "cell_type": "markdown",
   "metadata": {},
   "source": [
    "# Rééquilibrer les catégories\n",
    "\n",
    "**Augmenter l'offre dans la catégorie 1**\n",
    "Proportionnellement au stock, cette catégorie se vend beaucoup plus que la catégorie 0, pourtant plus abordable financièrement.\n",
    "\n",
    "**Réduire le nombre de références dans la catégorie 0**"
   ]
  }
 ],
 "metadata": {
  "hide_input": false,
  "kernelspec": {
   "display_name": "Python 3",
   "language": "python",
   "name": "python3"
  },
  "language_info": {
   "codemirror_mode": {
    "name": "ipython",
    "version": 3
   },
   "file_extension": ".py",
   "mimetype": "text/x-python",
   "name": "python",
   "nbconvert_exporter": "python",
   "pygments_lexer": "ipython3",
   "version": "3.8.5"
  },
  "toc": {
   "base_numbering": 1,
   "nav_menu": {},
   "number_sections": true,
   "sideBar": true,
   "skip_h1_title": false,
   "title_cell": "Table of Contents",
   "title_sidebar": "Contents",
   "toc_cell": false,
   "toc_position": {
    "height": "calc(100% - 180px)",
    "left": "10px",
    "top": "150px",
    "width": "287.797px"
   },
   "toc_section_display": true,
   "toc_window_display": true
  }
 },
 "nbformat": 4,
 "nbformat_minor": 4
}
